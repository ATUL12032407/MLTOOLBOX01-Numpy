{
 "cells": [
  {
   "cell_type": "code",
   "execution_count": 61,
   "id": "6be549fe-a731-4754-becd-6b157b89cbe6",
   "metadata": {},
   "outputs": [],
   "source": [
    "import numpy as np\n",
    "data=np.array([[1],[2],[3]])"
   ]
  },
  {
   "cell_type": "code",
   "execution_count": 62,
   "id": "d3e5c2d9-08b3-4a1d-ac89-4e00742c4d63",
   "metadata": {},
   "outputs": [
    {
     "data": {
      "text/plain": [
       "2"
      ]
     },
     "execution_count": 62,
     "metadata": {},
     "output_type": "execute_result"
    }
   ],
   "source": [
    "data.ndim"
   ]
  },
  {
   "cell_type": "code",
   "execution_count": 63,
   "id": "e2bf4de5-176d-4794-a370-3facc04488ec",
   "metadata": {},
   "outputs": [
    {
     "data": {
      "text/plain": [
       "array([[1],\n",
       "       [2],\n",
       "       [3]])"
      ]
     },
     "execution_count": 63,
     "metadata": {},
     "output_type": "execute_result"
    }
   ],
   "source": [
    "data"
   ]
  },
  {
   "cell_type": "code",
   "execution_count": 64,
   "id": "2dba9c8e-3c63-4a9e-90f3-72bb4f618f9e",
   "metadata": {},
   "outputs": [],
   "source": [
    "a=np.squeeze(data)"
   ]
  },
  {
   "cell_type": "code",
   "execution_count": 65,
   "id": "d9b30b24-a6dd-438e-9bcd-abf0ec8858aa",
   "metadata": {},
   "outputs": [
    {
     "data": {
      "text/plain": [
       "1"
      ]
     },
     "execution_count": 65,
     "metadata": {},
     "output_type": "execute_result"
    }
   ],
   "source": [
    "a.ndim"
   ]
  },
  {
   "cell_type": "markdown",
   "id": "9bf96afc-b1e6-4ecc-824d-73de8d02aa24",
   "metadata": {},
   "source": [
    "Repeat"
   ]
  },
  {
   "cell_type": "code",
   "execution_count": 66,
   "id": "7cc9603b-26cf-4a7f-ae11-218b86414417",
   "metadata": {},
   "outputs": [
    {
     "data": {
      "text/plain": [
       "array([1, 2, 3])"
      ]
     },
     "execution_count": 66,
     "metadata": {},
     "output_type": "execute_result"
    }
   ],
   "source": [
    "a"
   ]
  },
  {
   "cell_type": "code",
   "execution_count": 67,
   "id": "9df17c70-2528-4ba9-84e1-118d22166906",
   "metadata": {},
   "outputs": [
    {
     "data": {
      "text/plain": [
       "array([[1],\n",
       "       [2],\n",
       "       [3]])"
      ]
     },
     "execution_count": 67,
     "metadata": {},
     "output_type": "execute_result"
    }
   ],
   "source": [
    "data"
   ]
  },
  {
   "cell_type": "code",
   "execution_count": 68,
   "id": "ed954764-e584-469a-8975-d3b3c8f52e45",
   "metadata": {},
   "outputs": [
    {
     "data": {
      "text/plain": [
       "array([1, 1, 1, 1, 2, 2, 2, 2, 3, 3, 3, 3])"
      ]
     },
     "execution_count": 68,
     "metadata": {},
     "output_type": "execute_result"
    }
   ],
   "source": [
    "np.repeat(data,4)"
   ]
  },
  {
   "cell_type": "code",
   "execution_count": 69,
   "id": "ce1612bf-6cfb-4163-9641-97f2b92ec717",
   "metadata": {},
   "outputs": [],
   "source": [
    "a=np.array([[1,2],[3,4]])"
   ]
  },
  {
   "cell_type": "code",
   "execution_count": 70,
   "id": "759b2eeb-59ac-4b9a-9e13-0f61572fda0b",
   "metadata": {},
   "outputs": [],
   "source": [
    "b=np.repeat(a,2)"
   ]
  },
  {
   "cell_type": "code",
   "execution_count": 71,
   "id": "e83fb90e-92b7-4c42-9b24-4a43e412a5fc",
   "metadata": {},
   "outputs": [
    {
     "data": {
      "text/plain": [
       "array([[1, 1, 2, 2],\n",
       "       [3, 3, 4, 4]])"
      ]
     },
     "execution_count": 71,
     "metadata": {},
     "output_type": "execute_result"
    }
   ],
   "source": [
    "b.reshape(2,4)"
   ]
  },
  {
   "cell_type": "code",
   "execution_count": 72,
   "id": "80f962f3-63c2-4b36-9332-e25064036aaa",
   "metadata": {},
   "outputs": [
    {
     "data": {
      "text/plain": [
       "array([1, 1, 2, 2, 3, 3, 4, 4])"
      ]
     },
     "execution_count": 72,
     "metadata": {},
     "output_type": "execute_result"
    }
   ],
   "source": [
    "b"
   ]
  },
  {
   "cell_type": "code",
   "execution_count": 73,
   "id": "496b0573-60c1-43f3-8058-0fc86cbd02bf",
   "metadata": {},
   "outputs": [
    {
     "data": {
      "text/plain": [
       "array([[1, 2],\n",
       "       [3, 4]])"
      ]
     },
     "execution_count": 73,
     "metadata": {},
     "output_type": "execute_result"
    }
   ],
   "source": [
    "a"
   ]
  },
  {
   "cell_type": "code",
   "execution_count": 74,
   "id": "dacdf61e-5d74-4a63-8088-2fd868a30f81",
   "metadata": {},
   "outputs": [
    {
     "data": {
      "text/plain": [
       "array([[1, 1, 2, 2],\n",
       "       [3, 3, 4, 4]])"
      ]
     },
     "execution_count": 74,
     "metadata": {},
     "output_type": "execute_result"
    }
   ],
   "source": [
    "np.repeat(a,2,axis =1 )"
   ]
  },
  {
   "cell_type": "code",
   "execution_count": 75,
   "id": "029703f3-a531-4274-acc0-9aaca3b98725",
   "metadata": {},
   "outputs": [
    {
     "data": {
      "text/plain": [
       "array([[1, 2],\n",
       "       [1, 2],\n",
       "       [3, 4],\n",
       "       [3, 4]])"
      ]
     },
     "execution_count": 75,
     "metadata": {},
     "output_type": "execute_result"
    }
   ],
   "source": [
    "np.repeat(a,2,axis =0 )"
   ]
  },
  {
   "cell_type": "code",
   "execution_count": null,
   "id": "3708323a-1aef-4528-a2ee-137e2815100b",
   "metadata": {},
   "outputs": [],
   "source": [
    "np.roll()"
   ]
  },
  {
   "cell_type": "markdown",
   "id": "4aecb723-0a6a-41cd-a35d-599e8f321e35",
   "metadata": {},
   "source": [
    "It is rolling orrotating the data "
   ]
  },
  {
   "cell_type": "code",
   "execution_count": 77,
   "id": "b46124ae-983d-4668-9110-74cd7ac634fb",
   "metadata": {},
   "outputs": [
    {
     "data": {
      "text/plain": [
       "array([[3],\n",
       "       [1],\n",
       "       [2]])"
      ]
     },
     "execution_count": 77,
     "metadata": {},
     "output_type": "execute_result"
    }
   ],
   "source": [
    "np.roll(data, 1)"
   ]
  },
  {
   "cell_type": "code",
   "execution_count": 78,
   "id": "2af6bda2-339a-47e6-831a-a52724bb4fca",
   "metadata": {},
   "outputs": [
    {
     "data": {
      "text/plain": [
       "array([[2],\n",
       "       [3],\n",
       "       [1]])"
      ]
     },
     "execution_count": 78,
     "metadata": {},
     "output_type": "execute_result"
    }
   ],
   "source": [
    "np.roll(data, 2)"
   ]
  },
  {
   "cell_type": "code",
   "execution_count": 79,
   "id": "4ee55b97-e584-4664-b021-48661aa14243",
   "metadata": {},
   "outputs": [
    {
     "data": {
      "text/plain": [
       "array([[1],\n",
       "       [2],\n",
       "       [3]])"
      ]
     },
     "execution_count": 79,
     "metadata": {},
     "output_type": "execute_result"
    }
   ],
   "source": [
    "np.roll(data, 3)"
   ]
  },
  {
   "cell_type": "code",
   "execution_count": 80,
   "id": "605e4e42-1aa3-4da5-9803-c378f45a80fa",
   "metadata": {},
   "outputs": [
    {
     "data": {
      "text/plain": [
       "array([[3],\n",
       "       [1],\n",
       "       [2]])"
      ]
     },
     "execution_count": 80,
     "metadata": {},
     "output_type": "execute_result"
    }
   ],
   "source": [
    "np.roll(data, 4)"
   ]
  },
  {
   "cell_type": "code",
   "execution_count": 81,
   "id": "74345325-32ce-4185-a2a1-1ccf81abba67",
   "metadata": {},
   "outputs": [],
   "source": [
    "b = np.diag(np.array([1,2,3,4]))"
   ]
  },
  {
   "cell_type": "code",
   "execution_count": 82,
   "id": "a71c59b3-ab1d-4451-ac9a-038172e18f48",
   "metadata": {},
   "outputs": [
    {
     "data": {
      "text/plain": [
       "array([[1, 0, 0, 0],\n",
       "       [0, 2, 0, 0],\n",
       "       [0, 0, 3, 0],\n",
       "       [0, 0, 0, 4]])"
      ]
     },
     "execution_count": 82,
     "metadata": {},
     "output_type": "execute_result"
    }
   ],
   "source": [
    "b"
   ]
  },
  {
   "cell_type": "code",
   "execution_count": 83,
   "id": "52fc0b26-b784-44f8-b796-6dcf2e1671ad",
   "metadata": {},
   "outputs": [
    {
     "data": {
      "text/plain": [
       "array([[4, 1, 0, 0],\n",
       "       [0, 0, 2, 0],\n",
       "       [0, 0, 0, 3],\n",
       "       [0, 0, 0, 0]])"
      ]
     },
     "execution_count": 83,
     "metadata": {},
     "output_type": "execute_result"
    }
   ],
   "source": [
    "np.roll(b, 1)"
   ]
  },
  {
   "cell_type": "raw",
   "id": "b3c2da5c-83d7-4bae-b7e0-206967c25ad5",
   "metadata": {},
   "source": [
    "Real-life usecase:-\n",
    "\n",
    "Time     Demand   Shift  Roll\n",
    "Jan         2      Null    5\n",
    "Feb         3        2     2\n",
    "...        ...       3     3\n",
    "\n",
    "Dec         5\n",
    "\n",
    "In rollinng data will be constant and in shift first value will be null."
   ]
  },
  {
   "cell_type": "code",
   "execution_count": 84,
   "id": "cc5174ca-71cc-4200-992f-075dfe11518b",
   "metadata": {},
   "outputs": [],
   "source": [
    "a= np.array([[[1,2],[3,4],[5,6]]])"
   ]
  },
  {
   "cell_type": "code",
   "execution_count": 85,
   "id": "bba74e17-6fd5-4aca-a8b8-002c749d0034",
   "metadata": {},
   "outputs": [
    {
     "data": {
      "text/plain": [
       "array([[[1, 2],\n",
       "        [3, 4],\n",
       "        [5, 6]]])"
      ]
     },
     "execution_count": 85,
     "metadata": {},
     "output_type": "execute_result"
    }
   ],
   "source": [
    "a"
   ]
  },
  {
   "cell_type": "code",
   "execution_count": 86,
   "id": "df21ab67-edd0-47f2-a9d2-cd7be3285a53",
   "metadata": {},
   "outputs": [
    {
     "data": {
      "text/plain": [
       "array([[[1, 2],\n",
       "        [3, 4],\n",
       "        [5, 6]]])"
      ]
     },
     "execution_count": 86,
     "metadata": {},
     "output_type": "execute_result"
    }
   ],
   "source": [
    "np.roll(a, 1, axis = 0)"
   ]
  },
  {
   "cell_type": "code",
   "execution_count": 87,
   "id": "14ff1003-cf66-4365-9933-37879febb955",
   "metadata": {},
   "outputs": [
    {
     "data": {
      "text/plain": [
       "array([[[5, 6],\n",
       "        [1, 2],\n",
       "        [3, 4]]])"
      ]
     },
     "execution_count": 87,
     "metadata": {},
     "output_type": "execute_result"
    }
   ],
   "source": [
    "np.roll(a, 1, axis = 1)"
   ]
  },
  {
   "cell_type": "code",
   "execution_count": 88,
   "id": "d7e92609-9dff-4c19-90e3-78dbd610fa64",
   "metadata": {},
   "outputs": [
    {
     "data": {
      "text/plain": [
       "array([[[2, 1],\n",
       "        [4, 3],\n",
       "        [6, 5]]])"
      ]
     },
     "execution_count": 88,
     "metadata": {},
     "output_type": "execute_result"
    }
   ],
   "source": [
    "np.roll(a, 1, axis = 2)"
   ]
  },
  {
   "cell_type": "code",
   "execution_count": 89,
   "id": "dc2dd92a-3f55-4571-95d3-35ada9d607ed",
   "metadata": {},
   "outputs": [
    {
     "data": {
      "text/plain": [
       "array([[[1, 2],\n",
       "        [3, 4],\n",
       "        [5, 6]]])"
      ]
     },
     "execution_count": 89,
     "metadata": {},
     "output_type": "execute_result"
    }
   ],
   "source": [
    "np.roll(a, 1, axis = 0)"
   ]
  },
  {
   "cell_type": "raw",
   "id": "aa6d6dcb-ae6b-445b-b699-400cceeab8d6",
   "metadata": {},
   "source": [
    "Binary operation on array "
   ]
  },
  {
   "cell_type": "code",
   "execution_count": null,
   "id": "8cdbc185-7844-4036-a18e-3d3fc103d608",
   "metadata": {},
   "outputs": [],
   "source": [
    "axis=0  it will repeat row wise and axis =1 it will roll column wise "
   ]
  },
  {
   "cell_type": "code",
   "execution_count": 92,
   "id": "84412f38-b256-47b4-bc72-92e47ee3cdd1",
   "metadata": {},
   "outputs": [],
   "source": [
    "arr1 =np.random.randint(1,10,(3,4)) "
   ]
  },
  {
   "cell_type": "code",
   "execution_count": 93,
   "id": "d1d1df93-3ba0-4eb6-b124-fb4866c79f4f",
   "metadata": {},
   "outputs": [],
   "source": [
    "arr2 =np.random.randint(1,10,(3,4)) "
   ]
  },
  {
   "cell_type": "code",
   "execution_count": 94,
   "id": "3606fef4-b547-4a99-908a-1f1d8ff0aa9f",
   "metadata": {},
   "outputs": [
    {
     "data": {
      "text/plain": [
       "array([[8, 5, 6, 1],\n",
       "       [4, 6, 8, 6],\n",
       "       [9, 6, 2, 8]])"
      ]
     },
     "execution_count": 94,
     "metadata": {},
     "output_type": "execute_result"
    }
   ],
   "source": [
    "arr1"
   ]
  },
  {
   "cell_type": "code",
   "execution_count": 95,
   "id": "327ebf95-8fa7-430d-b329-2f2fd5808584",
   "metadata": {},
   "outputs": [
    {
     "data": {
      "text/plain": [
       "array([[7, 5, 8, 7],\n",
       "       [3, 1, 2, 4],\n",
       "       [7, 5, 9, 4]])"
      ]
     },
     "execution_count": 95,
     "metadata": {},
     "output_type": "execute_result"
    }
   ],
   "source": [
    "arr2"
   ]
  },
  {
   "cell_type": "code",
   "execution_count": 96,
   "id": "d7d495ee-3e28-4186-9bc6-34fcd25238e4",
   "metadata": {},
   "outputs": [
    {
     "data": {
      "text/plain": [
       "array([[15, 10, 14,  8],\n",
       "       [ 7,  7, 10, 10],\n",
       "       [16, 11, 11, 12]])"
      ]
     },
     "execution_count": 96,
     "metadata": {},
     "output_type": "execute_result"
    }
   ],
   "source": [
    "arr1+arr2"
   ]
  },
  {
   "cell_type": "code",
   "execution_count": null,
   "id": "789cdfc5-59ab-4632-9e52-f2cde5b312d9",
   "metadata": {},
   "outputs": [],
   "source": [
    "It gives u indexwise summition"
   ]
  },
  {
   "cell_type": "code",
   "execution_count": 100,
   "id": "91bfdcfa-4023-4412-adee-63aef37d6a31",
   "metadata": {},
   "outputs": [
    {
     "data": {
      "text/plain": [
       "array([[56, 25, 48,  7],\n",
       "       [12,  6, 16, 24],\n",
       "       [63, 30, 18, 32]])"
      ]
     },
     "execution_count": 100,
     "metadata": {},
     "output_type": "execute_result"
    }
   ],
   "source": [
    "arr1*arr2"
   ]
  },
  {
   "cell_type": "code",
   "execution_count": 101,
   "id": "f4bc87a8-d225-49a7-a638-4dbeb052b1d0",
   "metadata": {},
   "outputs": [
    {
     "data": {
      "text/plain": [
       "array([[1.14285714, 1.        , 0.75      , 0.14285714],\n",
       "       [1.33333333, 6.        , 4.        , 1.5       ],\n",
       "       [1.28571429, 1.2       , 0.22222222, 2.        ]])"
      ]
     },
     "execution_count": 101,
     "metadata": {},
     "output_type": "execute_result"
    }
   ],
   "source": [
    "arr1/arr2"
   ]
  },
  {
   "cell_type": "code",
   "execution_count": 102,
   "id": "1e8eab84-1652-4992-ab5e-974005e4e9c5",
   "metadata": {},
   "outputs": [
    {
     "data": {
      "text/plain": [
       "array([[ 1,  0, -2, -6],\n",
       "       [ 1,  5,  6,  2],\n",
       "       [ 2,  1, -7,  4]])"
      ]
     },
     "execution_count": 102,
     "metadata": {},
     "output_type": "execute_result"
    }
   ],
   "source": [
    "arr1-arr2"
   ]
  },
  {
   "cell_type": "code",
   "execution_count": 103,
   "id": "6eb73f56-54c6-4ce5-96f8-0ba2fc011597",
   "metadata": {},
   "outputs": [
    {
     "data": {
      "text/plain": [
       "array([[2097152,    3125, 1679616,       1],\n",
       "       [     64,       6,      64,    1296],\n",
       "       [4782969,    7776,     512,    4096]])"
      ]
     },
     "execution_count": 103,
     "metadata": {},
     "output_type": "execute_result"
    }
   ],
   "source": [
    "arr1**arr2"
   ]
  },
  {
   "cell_type": "markdown",
   "id": "a632f06c-507e-4bee-a68c-110f6834901c",
   "metadata": {},
   "source": [
    "arr1"
   ]
  },
  {
   "cell_type": "code",
   "execution_count": 104,
   "id": "d8aeccc9-e6ef-4ffd-9204-5bbbb0abdcd1",
   "metadata": {},
   "outputs": [
    {
     "data": {
      "text/plain": [
       "array([[7, 5, 8, 7],\n",
       "       [3, 1, 2, 4],\n",
       "       [7, 5, 9, 4]])"
      ]
     },
     "execution_count": 104,
     "metadata": {},
     "output_type": "execute_result"
    }
   ],
   "source": [
    "arr2"
   ]
  },
  {
   "cell_type": "code",
   "execution_count": 105,
   "id": "2b675872-d168-48eb-83a9-845676b4603b",
   "metadata": {},
   "outputs": [
    {
     "data": {
      "text/plain": [
       "array([[ True, False, False, False],\n",
       "       [ True,  True,  True,  True],\n",
       "       [ True,  True, False,  True]])"
      ]
     },
     "execution_count": 105,
     "metadata": {},
     "output_type": "execute_result"
    }
   ],
   "source": [
    "arr1 > arr2"
   ]
  },
  {
   "cell_type": "code",
   "execution_count": 106,
   "id": "271f4c24-dcbd-4a62-b7e5-0a73c0ae0007",
   "metadata": {},
   "outputs": [
    {
     "data": {
      "text/plain": [
       "array([[ -9,  -6,  -7,  -2],\n",
       "       [ -5,  -7,  -9,  -7],\n",
       "       [-10,  -7,  -3,  -9]])"
      ]
     },
     "execution_count": 106,
     "metadata": {},
     "output_type": "execute_result"
    }
   ],
   "source": [
    "~arr1"
   ]
  },
  {
   "cell_type": "markdown",
   "id": "3717cebc-e954-4cf0-bd69-6e1b548f0df1",
   "metadata": {},
   "source": [
    "Bitwise negation "
   ]
  },
  {
   "cell_type": "markdown",
   "id": "5aabd03f-9842-4485-a9a5-041963b76ced",
   "metadata": {},
   "source": [
    "Numpy string function"
   ]
  },
  {
   "cell_type": "raw",
   "id": "f8598558-7fae-452c-9dfc-34243fda717e",
   "metadata": {},
   "source": [
    "0011\n",
    "+  1\n",
    "------\n",
    " 0100 and then use - sign"
   ]
  },
  {
   "cell_type": "code",
   "execution_count": 107,
   "id": "74e062d4-362f-45fc-aab2-4cc23003442a",
   "metadata": {},
   "outputs": [],
   "source": [
    "arr= np.array([\"pw\",\"Skills\"])"
   ]
  },
  {
   "cell_type": "code",
   "execution_count": 108,
   "id": "aed19449-7776-4eb3-a29b-4ebc6002e809",
   "metadata": {},
   "outputs": [
    {
     "data": {
      "text/plain": [
       "array(['pw', 'Skills'], dtype='<U6')"
      ]
     },
     "execution_count": 108,
     "metadata": {},
     "output_type": "execute_result"
    }
   ],
   "source": [
    "arr"
   ]
  },
  {
   "cell_type": "code",
   "execution_count": 109,
   "id": "5fc9d2b3-35fe-4545-8fd2-8629a271fa94",
   "metadata": {},
   "outputs": [
    {
     "data": {
      "text/plain": [
       "array(['PW', 'SKILLS'], dtype='<U6')"
      ]
     },
     "execution_count": 109,
     "metadata": {},
     "output_type": "execute_result"
    }
   ],
   "source": [
    "np.char.upper(arr)"
   ]
  },
  {
   "cell_type": "code",
   "execution_count": 110,
   "id": "4612a5fe-0e3c-4112-aee6-1ae48952ea7b",
   "metadata": {},
   "outputs": [
    {
     "data": {
      "text/plain": [
       "array(['AJAY'], dtype='<U4')"
      ]
     },
     "execution_count": 110,
     "metadata": {},
     "output_type": "execute_result"
    }
   ],
   "source": [
    "np.char.upper(np.array([\"Ajay\"]))"
   ]
  },
  {
   "cell_type": "code",
   "execution_count": 111,
   "id": "327d8c2a-40d7-4cc5-a871-875aa55406c1",
   "metadata": {},
   "outputs": [
    {
     "data": {
      "text/plain": [
       "array(['Pw', 'Skills'], dtype='<U6')"
      ]
     },
     "execution_count": 111,
     "metadata": {},
     "output_type": "execute_result"
    }
   ],
   "source": [
    "np.char.capitalize(arr)"
   ]
  },
  {
   "cell_type": "code",
   "execution_count": 112,
   "id": "06e56779-d10b-45f8-8612-4743ddf3e829",
   "metadata": {},
   "outputs": [
    {
     "data": {
      "text/plain": [
       "array(['Pw', 'Skills'], dtype='<U6')"
      ]
     },
     "execution_count": 112,
     "metadata": {},
     "output_type": "execute_result"
    }
   ],
   "source": [
    "np.char.title(arr)"
   ]
  },
  {
   "cell_type": "code",
   "execution_count": 114,
   "id": "c1e2562f-cd24-424f-858c-a24aa9585254",
   "metadata": {},
   "outputs": [
    {
     "data": {
      "text/plain": [
       "array(['Pw', 'Skills'], dtype='<U6')"
      ]
     },
     "execution_count": 114,
     "metadata": {},
     "output_type": "execute_result"
    }
   ],
   "source": [
    "np.char.title(arr)"
   ]
  },
  {
   "cell_type": "code",
   "execution_count": null,
   "id": "d95d7b56-743d-45e6-86d3-28318d476c89",
   "metadata": {},
   "outputs": [],
   "source": [
    "Mathematical Function "
   ]
  },
  {
   "cell_type": "code",
   "execution_count": 115,
   "id": "00dc954b-4bc9-44ca-bfb5-51e3650b1d73",
   "metadata": {},
   "outputs": [
    {
     "data": {
      "text/plain": [
       "array([[8, 5, 6, 1],\n",
       "       [4, 6, 8, 6],\n",
       "       [9, 6, 2, 8]])"
      ]
     },
     "execution_count": 115,
     "metadata": {},
     "output_type": "execute_result"
    }
   ],
   "source": [
    "arr1"
   ]
  },
  {
   "cell_type": "code",
   "execution_count": 116,
   "id": "2ce3c1d9-1aad-423d-9e9b-f6e5d5df4f6b",
   "metadata": {},
   "outputs": [
    {
     "data": {
      "text/plain": [
       "array([[ 0.98935825, -0.95892427, -0.2794155 ,  0.84147098],\n",
       "       [-0.7568025 , -0.2794155 ,  0.98935825, -0.2794155 ],\n",
       "       [ 0.41211849, -0.2794155 ,  0.90929743,  0.98935825]])"
      ]
     },
     "execution_count": 116,
     "metadata": {},
     "output_type": "execute_result"
    }
   ],
   "source": [
    "np.sin(arr1)"
   ]
  },
  {
   "cell_type": "code",
   "execution_count": 117,
   "id": "df4cb326-d81e-4d8b-943d-21fd08c6ab3f",
   "metadata": {},
   "outputs": [
    {
     "data": {
      "text/plain": [
       "array([[-0.14550003,  0.28366219,  0.96017029,  0.54030231],\n",
       "       [-0.65364362,  0.96017029, -0.14550003,  0.96017029],\n",
       "       [-0.91113026,  0.96017029, -0.41614684, -0.14550003]])"
      ]
     },
     "execution_count": 117,
     "metadata": {},
     "output_type": "execute_result"
    }
   ],
   "source": [
    "np.cos(arr1)"
   ]
  },
  {
   "cell_type": "code",
   "execution_count": 118,
   "id": "62346b95-e8e5-4d9f-a276-c0eb01357d57",
   "metadata": {},
   "outputs": [
    {
     "data": {
      "text/plain": [
       "array([[0.90308999, 0.69897   , 0.77815125, 0.        ],\n",
       "       [0.60205999, 0.77815125, 0.90308999, 0.77815125],\n",
       "       [0.95424251, 0.77815125, 0.30103   , 0.90308999]])"
      ]
     },
     "execution_count": 118,
     "metadata": {},
     "output_type": "execute_result"
    }
   ],
   "source": [
    "np.log10(arr1)"
   ]
  },
  {
   "cell_type": "code",
   "execution_count": 119,
   "id": "4e0e7783-c442-4c43-9ac9-c45ad81a0cf7",
   "metadata": {},
   "outputs": [
    {
     "data": {
      "text/plain": [
       "array([[64, 25, 36,  1],\n",
       "       [16, 36, 64, 36],\n",
       "       [81, 36,  4, 64]])"
      ]
     },
     "execution_count": 119,
     "metadata": {},
     "output_type": "execute_result"
    }
   ],
   "source": [
    "np.power(arr1,2)"
   ]
  },
  {
   "cell_type": "code",
   "execution_count": 120,
   "id": "62877411-9eeb-4af4-93ff-87d51814f6df",
   "metadata": {},
   "outputs": [
    {
     "data": {
      "text/plain": [
       "5.75"
      ]
     },
     "execution_count": 120,
     "metadata": {},
     "output_type": "execute_result"
    }
   ],
   "source": [
    "np.mean(arr1)"
   ]
  },
  {
   "cell_type": "code",
   "execution_count": 121,
   "id": "50ffb28a-12ff-4df2-9f3d-0e5b6653e795",
   "metadata": {},
   "outputs": [
    {
     "data": {
      "text/plain": [
       "9"
      ]
     },
     "execution_count": 121,
     "metadata": {},
     "output_type": "execute_result"
    }
   ],
   "source": [
    "np.max(arr1)"
   ]
  },
  {
   "cell_type": "code",
   "execution_count": 122,
   "id": "e6da8bed-231d-4eda-96c7-f8cb35c21e71",
   "metadata": {},
   "outputs": [
    {
     "data": {
      "text/plain": [
       "2.3496453633119474"
      ]
     },
     "execution_count": 122,
     "metadata": {},
     "output_type": "execute_result"
    }
   ],
   "source": [
    "np.std(arr1)"
   ]
  },
  {
   "cell_type": "code",
   "execution_count": 123,
   "id": "15a2faa8-c73c-432e-87c6-cfaeb7b71388",
   "metadata": {},
   "outputs": [
    {
     "data": {
      "text/plain": [
       "9"
      ]
     },
     "execution_count": 123,
     "metadata": {},
     "output_type": "execute_result"
    }
   ],
   "source": [
    "np.max(arr1)"
   ]
  },
  {
   "cell_type": "code",
   "execution_count": 124,
   "id": "abb2b275-f3fe-49f9-b233-c3fd22631ba3",
   "metadata": {},
   "outputs": [
    {
     "data": {
      "text/plain": [
       "array([[ 1,  0, -2, -6],\n",
       "       [ 1,  5,  6,  2],\n",
       "       [ 2,  1, -7,  4]])"
      ]
     },
     "execution_count": 124,
     "metadata": {},
     "output_type": "execute_result"
    }
   ],
   "source": [
    "arr1-arr2"
   ]
  },
  {
   "cell_type": "code",
   "execution_count": 126,
   "id": "9aca1781-3e6f-4def-a484-1c182a3c0223",
   "metadata": {},
   "outputs": [
    {
     "data": {
      "text/plain": [
       "array([[ 1,  0, -2, -6],\n",
       "       [ 1,  5,  6,  2],\n",
       "       [ 2,  1, -7,  4]])"
      ]
     },
     "execution_count": 126,
     "metadata": {},
     "output_type": "execute_result"
    }
   ],
   "source": [
    "np.subtract(arr1,arr2)"
   ]
  },
  {
   "cell_type": "code",
   "execution_count": 127,
   "id": "63f959fc-6ce2-42d0-8bff-0aee6a572d11",
   "metadata": {},
   "outputs": [
    {
     "data": {
      "text/plain": [
       "array([[56, 25, 48,  7],\n",
       "       [12,  6, 16, 24],\n",
       "       [63, 30, 18, 32]])"
      ]
     },
     "execution_count": 127,
     "metadata": {},
     "output_type": "execute_result"
    }
   ],
   "source": [
    "arr1*arr2"
   ]
  },
  {
   "cell_type": "code",
   "execution_count": 128,
   "id": "0687894c-be02-4d9b-81d3-e2f4d0076731",
   "metadata": {},
   "outputs": [
    {
     "data": {
      "text/plain": [
       "array([[56, 25, 48,  7],\n",
       "       [12,  6, 16, 24],\n",
       "       [63, 30, 18, 32]])"
      ]
     },
     "execution_count": 128,
     "metadata": {},
     "output_type": "execute_result"
    }
   ],
   "source": [
    "np.multiply(arr1,arr2)"
   ]
  },
  {
   "cell_type": "code",
   "execution_count": 129,
   "id": "893314fd-cb27-4ddf-8d2a-4c42ec8f7f43",
   "metadata": {},
   "outputs": [
    {
     "data": {
      "text/plain": [
       "array([[1, 0, 6, 1],\n",
       "       [1, 0, 0, 2],\n",
       "       [2, 1, 2, 0]])"
      ]
     },
     "execution_count": 129,
     "metadata": {},
     "output_type": "execute_result"
    }
   ],
   "source": [
    "np.mod(arr1,arr2)"
   ]
  },
  {
   "cell_type": "code",
   "execution_count": 130,
   "id": "740ba674-e112-4480-b6e4-9e977d030931",
   "metadata": {},
   "outputs": [
    {
     "data": {
      "text/plain": [
       "array([[2097152,    3125, 1679616,       1],\n",
       "       [     64,       6,      64,    1296],\n",
       "       [4782969,    7776,     512,    4096]])"
      ]
     },
     "execution_count": 130,
     "metadata": {},
     "output_type": "execute_result"
    }
   ],
   "source": [
    "np.power(arr1, arr2)"
   ]
  },
  {
   "cell_type": "code",
   "execution_count": 131,
   "id": "15f91b8f-0ea9-447a-81ce-5e1c07b96a71",
   "metadata": {},
   "outputs": [
    {
     "data": {
      "text/plain": [
       "5.520833333333333"
      ]
     },
     "execution_count": 131,
     "metadata": {},
     "output_type": "execute_result"
    }
   ],
   "source": [
    "np.var(arr1)"
   ]
  },
  {
   "cell_type": "markdown",
   "id": "2c30fb3d-f723-4030-85f7-b35400b71db2",
   "metadata": {},
   "source": [
    "Sorting and searching in the array"
   ]
  },
  {
   "cell_type": "code",
   "execution_count": 132,
   "id": "e087fd23-c18f-4993-b04c-83f52946b618",
   "metadata": {},
   "outputs": [],
   "source": [
    "arr =np.array([5,6,1,2])"
   ]
  },
  {
   "cell_type": "code",
   "execution_count": 133,
   "id": "b4ccaf09-6313-4414-a6f2-b4313726762b",
   "metadata": {},
   "outputs": [
    {
     "data": {
      "text/plain": [
       "array([5, 6, 1, 2])"
      ]
     },
     "execution_count": 133,
     "metadata": {},
     "output_type": "execute_result"
    }
   ],
   "source": [
    "arr"
   ]
  },
  {
   "cell_type": "code",
   "execution_count": 134,
   "id": "e17412a4-011f-4a75-b3a2-e6db05371fd8",
   "metadata": {},
   "outputs": [
    {
     "data": {
      "text/plain": [
       "array([1, 2, 5, 6])"
      ]
     },
     "execution_count": 134,
     "metadata": {},
     "output_type": "execute_result"
    }
   ],
   "source": [
    "np.sort(arr)"
   ]
  },
  {
   "cell_type": "code",
   "execution_count": 137,
   "id": "d6850d25-c4bc-4c86-981a-c84b7edf3023",
   "metadata": {},
   "outputs": [
    {
     "data": {
      "text/plain": [
       "4"
      ]
     },
     "execution_count": 137,
     "metadata": {},
     "output_type": "execute_result"
    }
   ],
   "source": [
    "np.searchsorted(arr,3)"
   ]
  },
  {
   "cell_type": "markdown",
   "id": "949341ae-0652-4a49-9686-92905059db9b",
   "metadata": {},
   "source": [
    "Insert that at 3rd place in order to get original array into sorted format"
   ]
  },
  {
   "cell_type": "code",
   "execution_count": 138,
   "id": "c97c3058-946f-4b03-9105-6b20b1d978fb",
   "metadata": {},
   "outputs": [],
   "source": [
    "arr1 =np.array([0,1,2,3,0,4])"
   ]
  },
  {
   "cell_type": "code",
   "execution_count": 140,
   "id": "dafe9ec1-c62e-4b63-a893-3e30eb9d97d1",
   "metadata": {},
   "outputs": [
    {
     "data": {
      "text/plain": [
       "4"
      ]
     },
     "execution_count": 140,
     "metadata": {},
     "output_type": "execute_result"
    }
   ],
   "source": [
    "np.count_nonzero(arr1)"
   ]
  },
  {
   "cell_type": "code",
   "execution_count": 141,
   "id": "583f2255-7fb7-47c5-99bd-fafddcc0213c",
   "metadata": {},
   "outputs": [
    {
     "data": {
      "text/plain": [
       "(array([1, 2, 3, 5]),)"
      ]
     },
     "execution_count": 141,
     "metadata": {},
     "output_type": "execute_result"
    }
   ],
   "source": [
    "np.where(arr1>0)"
   ]
  },
  {
   "cell_type": "code",
   "execution_count": 143,
   "id": "a89d5229-90bf-4e98-85e5-a875e5eef0f5",
   "metadata": {},
   "outputs": [
    {
     "data": {
      "text/plain": [
       "array([1, 2, 3, 4])"
      ]
     },
     "execution_count": 143,
     "metadata": {},
     "output_type": "execute_result"
    }
   ],
   "source": [
    "np.extract(arr1>0,arr1)"
   ]
  },
  {
   "cell_type": "code",
   "execution_count": 151,
   "id": "e833ba00-1ee8-4c23-8b39-7f0a7f3fc47c",
   "metadata": {},
   "outputs": [],
   "source": [
    "arr3 =np.array([5,6,100,200,1,2,8,9])"
   ]
  },
  {
   "cell_type": "code",
   "execution_count": 152,
   "id": "fc64194f-a66f-4432-ac40-cf551a3529ea",
   "metadata": {},
   "outputs": [
    {
     "data": {
      "text/plain": [
       "6"
      ]
     },
     "execution_count": 152,
     "metadata": {},
     "output_type": "execute_result"
    }
   ],
   "source": [
    "np.searchsorted(arr3,7)"
   ]
  },
  {
   "cell_type": "code",
   "execution_count": 157,
   "id": "0e645a14-76f3-431c-b215-318c4599b1a7",
   "metadata": {},
   "outputs": [
    {
     "data": {
      "text/plain": [
       "array([  5,   6, 100, 200,   1,   2,   8,   9])"
      ]
     },
     "execution_count": 157,
     "metadata": {},
     "output_type": "execute_result"
    }
   ],
   "source": [
    "arr3"
   ]
  },
  {
   "cell_type": "code",
   "execution_count": 158,
   "id": "51cc62a0-80f9-405b-a4d5-33a0e5b27395",
   "metadata": {},
   "outputs": [
    {
     "data": {
      "text/plain": [
       "array([  1,   2,   5,   6,   8,   9, 100, 200])"
      ]
     },
     "execution_count": 158,
     "metadata": {},
     "output_type": "execute_result"
    }
   ],
   "source": [
    "np.sort(arr3)"
   ]
  },
  {
   "cell_type": "code",
   "execution_count": 159,
   "id": "3627fc03-a4f8-4b26-8bc7-3d4139d7eab3",
   "metadata": {},
   "outputs": [
    {
     "data": {
      "text/plain": [
       "6"
      ]
     },
     "execution_count": 159,
     "metadata": {},
     "output_type": "execute_result"
    }
   ],
   "source": [
    "np.searchsorted(arr3,3)"
   ]
  },
  {
   "cell_type": "markdown",
   "id": "70af2cbb-22b0-4b5b-9af5-0d5ecf6a4fb1",
   "metadata": {},
   "source": [
    "We will see it latr "
   ]
  },
  {
   "cell_type": "code",
   "execution_count": 160,
   "id": "2854c46e-0bf2-47e8-ad9d-4225f2b209a9",
   "metadata": {},
   "outputs": [
    {
     "data": {
      "text/plain": [
       "array([ True,  True,  True,  True,  True,  True,  True,  True])"
      ]
     },
     "execution_count": 160,
     "metadata": {},
     "output_type": "execute_result"
    }
   ],
   "source": [
    "arr3 >0"
   ]
  },
  {
   "cell_type": "code",
   "execution_count": 161,
   "id": "e553442c-362b-4027-b1b6-460487c13c43",
   "metadata": {},
   "outputs": [
    {
     "data": {
      "text/plain": [
       "(array([0, 1, 2, 3, 4, 5, 6, 7]),)"
      ]
     },
     "execution_count": 161,
     "metadata": {},
     "output_type": "execute_result"
    }
   ],
   "source": [
    "np.where(arr3>0)"
   ]
  },
  {
   "cell_type": "code",
   "execution_count": 162,
   "id": "911e86b2-5999-46f9-badb-d6d134e14df5",
   "metadata": {},
   "outputs": [
    {
     "data": {
      "text/plain": [
       "array([  5,   6, 100, 200,   1,   2,   8,   9])"
      ]
     },
     "execution_count": 162,
     "metadata": {},
     "output_type": "execute_result"
    }
   ],
   "source": [
    "np.extract(arr3>0,arr3)"
   ]
  },
  {
   "cell_type": "code",
   "execution_count": 163,
   "id": "ee803912-5adc-4cd1-96f4-ebf6cb7dc03c",
   "metadata": {},
   "outputs": [
    {
     "data": {
      "text/plain": [
       "array([0, 1, 2, 3, 0, 4])"
      ]
     },
     "execution_count": 163,
     "metadata": {},
     "output_type": "execute_result"
    }
   ],
   "source": [
    "arr1"
   ]
  },
  {
   "cell_type": "code",
   "execution_count": 165,
   "id": "f2f32bb9-08b1-4716-b6a9-f1f5d62aac4b",
   "metadata": {},
   "outputs": [
    {
     "data": {
      "text/plain": [
       "array([  360287970189639680,   432345564227567616,  7205759403792793600,\n",
       "       -4035225266123964416,    72057594037927936,   144115188075855872,\n",
       "         576460752303423488,   648518346341351424])"
      ]
     },
     "execution_count": 165,
     "metadata": {},
     "output_type": "execute_result"
    }
   ],
   "source": [
    "arr3.byteswap()"
   ]
  },
  {
   "cell_type": "markdown",
   "id": "9b41c460-f222-49a7-bcfd-50c52dee89cf",
   "metadata": {},
   "source": [
    "Matrix is a 2-d array  "
   ]
  },
  {
   "cell_type": "code",
   "execution_count": 166,
   "id": "a371af64-685a-4a93-8cc8-c9cf82f7da79",
   "metadata": {},
   "outputs": [],
   "source": [
    "import numpy.matlib as nm"
   ]
  },
  {
   "cell_type": "code",
   "execution_count": 167,
   "id": "3465e96c-659c-4914-80aa-bf4574530bf9",
   "metadata": {},
   "outputs": [
    {
     "data": {
      "text/plain": [
       "matrix([[0., 0., 0., 0., 0.]])"
      ]
     },
     "execution_count": 167,
     "metadata": {},
     "output_type": "execute_result"
    }
   ],
   "source": [
    "nm.zeros(5)"
   ]
  },
  {
   "cell_type": "code",
   "execution_count": 168,
   "id": "774dbce3-0c6f-4e65-bfc3-c7d07b303439",
   "metadata": {},
   "outputs": [
    {
     "data": {
      "text/plain": [
       "matrix([[1., 1., 1., 1.],\n",
       "        [1., 1., 1., 1.],\n",
       "        [1., 1., 1., 1.],\n",
       "        [1., 1., 1., 1.]])"
      ]
     },
     "execution_count": 168,
     "metadata": {},
     "output_type": "execute_result"
    }
   ],
   "source": [
    "nm.ones((4,4))"
   ]
  },
  {
   "cell_type": "markdown",
   "id": "be1cbfa7-883c-4dea-8848-de1c85280e4d",
   "metadata": {},
   "source": [
    "Numpy linear algebra"
   ]
  },
  {
   "cell_type": "code",
   "execution_count": 170,
   "id": "0e6cc3f0-cfd6-47b6-be59-411b370d7021",
   "metadata": {},
   "outputs": [],
   "source": [
    "arr4 =np.random.randint(1,10,(3,4)) "
   ]
  },
  {
   "cell_type": "code",
   "execution_count": 171,
   "id": "2694292e-8e33-4949-8f6f-298a76effa01",
   "metadata": {},
   "outputs": [],
   "source": [
    "arr5 =np.random.randint(1,10,(3,4)) "
   ]
  },
  {
   "cell_type": "code",
   "execution_count": 175,
   "id": "065c3fab-affb-473a-8508-b96c9dfae8c5",
   "metadata": {},
   "outputs": [],
   "source": [
    "arr4 = np.array([[2,3],[4,5]])"
   ]
  },
  {
   "cell_type": "code",
   "execution_count": 178,
   "id": "2ac31a18-ee36-4589-914f-9b8d9f7ca7e9",
   "metadata": {},
   "outputs": [],
   "source": [
    "arr5 = np.array([[1,3],[4,5]])"
   ]
  },
  {
   "cell_type": "code",
   "execution_count": 181,
   "id": "d11ac066-0efc-49dd-a23b-d65d6ccc24aa",
   "metadata": {},
   "outputs": [
    {
     "data": {
      "text/plain": [
       "array([[2, 3],\n",
       "       [4, 5]])"
      ]
     },
     "execution_count": 181,
     "metadata": {},
     "output_type": "execute_result"
    }
   ],
   "source": [
    "arr4"
   ]
  },
  {
   "cell_type": "code",
   "execution_count": 179,
   "id": "176eee19-cc28-4bea-8031-52791b6be7cb",
   "metadata": {},
   "outputs": [
    {
     "data": {
      "text/plain": [
       "array([[1, 3],\n",
       "       [4, 5]])"
      ]
     },
     "execution_count": 179,
     "metadata": {},
     "output_type": "execute_result"
    }
   ],
   "source": [
    "arr5"
   ]
  },
  {
   "cell_type": "code",
   "execution_count": 180,
   "id": "5b1a2887-81ba-4503-9945-eaa144eabfe1",
   "metadata": {},
   "outputs": [
    {
     "data": {
      "text/plain": [
       "array([[14, 21],\n",
       "       [24, 37]])"
      ]
     },
     "execution_count": 180,
     "metadata": {},
     "output_type": "execute_result"
    }
   ],
   "source": [
    "arr4@arr5"
   ]
  },
  {
   "cell_type": "markdown",
   "id": "25757186-82d6-438f-9f3f-805c4451f634",
   "metadata": {},
   "source": [
    "**How to solve linear equations using Numpy ??"
   ]
  },
  {
   "cell_type": "code",
   "execution_count": 184,
   "id": "4615563e-9374-43a1-bcd2-d481d8f0a961",
   "metadata": {},
   "outputs": [],
   "source": [
    "b = np.array([[7,5,-3],[3,-5,2],[5,3,-7]])"
   ]
  },
  {
   "cell_type": "code",
   "execution_count": 185,
   "id": "dafb8933-8eda-4385-8010-aff7f1efc285",
   "metadata": {},
   "outputs": [
    {
     "data": {
      "text/plain": [
       "array([[ 7,  5, -3],\n",
       "       [ 3, -5,  2],\n",
       "       [ 5,  3, -7]])"
      ]
     },
     "execution_count": 185,
     "metadata": {},
     "output_type": "execute_result"
    }
   ],
   "source": [
    "b"
   ]
  },
  {
   "cell_type": "code",
   "execution_count": 186,
   "id": "39ccaadb-9b68-4e58-804c-9b2bc3d45330",
   "metadata": {},
   "outputs": [],
   "source": [
    "c = np.array ([16,-8,0])"
   ]
  },
  {
   "cell_type": "code",
   "execution_count": 187,
   "id": "13989bcc-18a7-4d9a-819b-d68d211b4dff",
   "metadata": {},
   "outputs": [
    {
     "data": {
      "text/plain": [
       "array([1., 3., 2.])"
      ]
     },
     "execution_count": 187,
     "metadata": {},
     "output_type": "execute_result"
    }
   ],
   "source": [
    "np.linalg.solve(b,c)"
   ]
  },
  {
   "cell_type": "markdown",
   "id": "91880dac-4d56-4c97-8d05-7b158883a617",
   "metadata": {},
   "source": [
    "Inverse of a matrix ??"
   ]
  },
  {
   "cell_type": "code",
   "execution_count": 189,
   "id": "88fd63c9-81bb-497a-a8ad-11c87ab1e7c8",
   "metadata": {},
   "outputs": [
    {
     "data": {
      "text/plain": [
       "array([[2, 3],\n",
       "       [4, 5]])"
      ]
     },
     "execution_count": 189,
     "metadata": {},
     "output_type": "execute_result"
    }
   ],
   "source": [
    "arr4"
   ]
  },
  {
   "cell_type": "code",
   "execution_count": 190,
   "id": "d8e0ad28-7970-479a-80c0-9a49dbe324d9",
   "metadata": {},
   "outputs": [
    {
     "data": {
      "text/plain": [
       "-2.0"
      ]
     },
     "execution_count": 190,
     "metadata": {},
     "output_type": "execute_result"
    }
   ],
   "source": [
    "np.linalg.det(arr4)"
   ]
  },
  {
   "cell_type": "code",
   "execution_count": 192,
   "id": "a3ac14db-f145-4b85-968f-a8c1cc6f0e35",
   "metadata": {},
   "outputs": [
    {
     "data": {
      "text/plain": [
       "array([[-2.5,  1.5],\n",
       "       [ 2. , -1. ]])"
      ]
     },
     "execution_count": 192,
     "metadata": {},
     "output_type": "execute_result"
    }
   ],
   "source": [
    "np.linalg.inv(arr4)"
   ]
  },
  {
   "cell_type": "code",
   "execution_count": null,
   "id": "3c879fdd-dce7-4fc9-9756-26ec2de70956",
   "metadata": {},
   "outputs": [],
   "source": [
    "............................................................Numpy ends................................................................................"
   ]
  }
 ],
 "metadata": {
  "kernelspec": {
   "display_name": "Python 3 (ipykernel)",
   "language": "python",
   "name": "python3"
  },
  "language_info": {
   "codemirror_mode": {
    "name": "ipython",
    "version": 3
   },
   "file_extension": ".py",
   "mimetype": "text/x-python",
   "name": "python",
   "nbconvert_exporter": "python",
   "pygments_lexer": "ipython3",
   "version": "3.10.8"
  }
 },
 "nbformat": 4,
 "nbformat_minor": 5
}
