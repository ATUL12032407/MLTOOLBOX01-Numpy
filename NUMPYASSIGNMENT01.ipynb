{
 "cells": [
  {
   "cell_type": "code",
   "execution_count": 5,
   "id": "6c1ae3da-d943-46d9-8f57-b29690a35ec1",
   "metadata": {},
   "outputs": [],
   "source": [
    "import numpy as np"
   ]
  },
  {
   "cell_type": "markdown",
   "id": "618ecffc-c119-4948-9dd7-9fc2b972617d",
   "metadata": {},
   "source": [
    " 1. What is a Python library? Why do we use Python libraries?"
   ]
  },
  {
   "cell_type": "raw",
   "id": "bfcc147c-1085-4f29-8893-b87e0f0c2e6e",
   "metadata": {},
   "source": [
    "A Python library is a collection of related modules. It contains bundles of code that can be used repeatedly in different programs. It makes Python Programming simpler and convenient for the programmer. As we don’t need to write the same code again and again for different programs.\n",
    "It is a widely used, object-oriented, open-source, high-performance programming language with many advantages – one of which is the extensive availability of libraries in Python. Libraries written in Python play a critical role in machine learning and data science. Each module in a Python library serves a specific purpose."
   ]
  },
  {
   "cell_type": "markdown",
   "id": "9f998ac8-5488-4d2b-af4c-94dbe068d34c",
   "metadata": {},
   "source": [
    " 2. What is the difference between Numpy array and List?"
   ]
  },
  {
   "cell_type": "code",
   "execution_count": null,
   "id": "067fd956-c73d-457d-a382-7f6f59a9fb46",
   "metadata": {},
   "outputs": [],
   "source": [
    "Difference between Numpy array and Python List are given below\n",
    "\n",
    "                Numpy Array                                    |                      Python List\n",
    "1.It doesnot  store additional information about each element. | 1.Lists in Python store additional information about each element.\n",
    "                                                               |\n",
    "2.It cannot hold different data types.                         | 2.Lists can hold different data types.\n",
    "                                                               | \n",
    "3.Itt store elements in contiguous memory locations.           | 3.Lists may not store elements in contiguous memory locations.\n",
    "                                                               | \n",
    "4.Numpy array is more optimized for numerical computationss.   | 4.Lists are not optimized for numerical computations and may have slower mathematical operations due to Python’s interpretation overhead. \n",
    "                                                               |\n",
    "5.Numpy array has extra metadata as shape,strides,and data type| 5. It doesnot have extra metadata. \n",
    "                                                               |\n",
    "    \n",
    "                                                                \n",
    "                                                            \n",
    "                            \n",
    "                            \n",
    "                            \n",
    "                            \n",
    "                            \n",
    "                            \n",
    "                            \n",
    "                            \n",
    "                            \n",
    "                            \n",
    "                            \n",
    "                                                                "
   ]
  },
  {
   "cell_type": "raw",
   "id": "36b8b37b-1847-4147-934d-ba1636a2b85c",
   "metadata": {},
   "source": [
    "3. Find the shape, size and dimension of the following array?\n",
    " [[1, 2, 3, 4]\n",
    " [5, 6, 7, 8],\n",
    " [9, 10, 11, 12]]"
   ]
  },
  {
   "cell_type": "code",
   "execution_count": 6,
   "id": "be47c415-6ab6-4fcb-a586-b5b37e92efcc",
   "metadata": {},
   "outputs": [],
   "source": [
    "arr1= np.array([[1, 2, 3, 4],[5, 6, 7, 8],[9, 10, 11, 12]])"
   ]
  },
  {
   "cell_type": "code",
   "execution_count": 7,
   "id": "3d6a145b-6581-4d2e-b0f8-892f61ecc384",
   "metadata": {},
   "outputs": [
    {
     "data": {
      "text/plain": [
       "12"
      ]
     },
     "execution_count": 7,
     "metadata": {},
     "output_type": "execute_result"
    }
   ],
   "source": [
    "np.size(arr1)"
   ]
  },
  {
   "cell_type": "code",
   "execution_count": 8,
   "id": "0c281a4a-461b-431a-93fb-7319f2fd4cc9",
   "metadata": {},
   "outputs": [
    {
     "data": {
      "text/plain": [
       "2"
      ]
     },
     "execution_count": 8,
     "metadata": {},
     "output_type": "execute_result"
    }
   ],
   "source": [
    "np.ndim(arr1)"
   ]
  },
  {
   "cell_type": "code",
   "execution_count": 9,
   "id": "0139107f-967d-42c3-b9e3-dfe08ef27d98",
   "metadata": {},
   "outputs": [
    {
     "data": {
      "text/plain": [
       "(3, 4)"
      ]
     },
     "execution_count": 9,
     "metadata": {},
     "output_type": "execute_result"
    }
   ],
   "source": [
    "np.shape(arr1)"
   ]
  },
  {
   "cell_type": "raw",
   "id": "20f74abb-8264-45d4-9749-50b7418e0018",
   "metadata": {},
   "source": [
    "4. Write python code to access the first row of the following array?\n",
    "[[1, 2, 3, 4]\n",
    " [5, 6, 7, 8],\n",
    " [9, 10, 11, 12]]"
   ]
  },
  {
   "cell_type": "code",
   "execution_count": 10,
   "id": "45385e56-6c0b-4b74-b3d2-1cd8106b5884",
   "metadata": {},
   "outputs": [],
   "source": [
    "arr2 =np.array([[1, 2, 3, 4],[5, 6, 7, 8],[9, 10, 11, 12]])"
   ]
  },
  {
   "cell_type": "code",
   "execution_count": 11,
   "id": "61196d0d-9f6e-47b0-9460-baae33901938",
   "metadata": {},
   "outputs": [
    {
     "data": {
      "text/plain": [
       "array([[ 1,  2,  3,  4],\n",
       "       [ 5,  6,  7,  8],\n",
       "       [ 9, 10, 11, 12]])"
      ]
     },
     "execution_count": 11,
     "metadata": {},
     "output_type": "execute_result"
    }
   ],
   "source": [
    "arr2"
   ]
  },
  {
   "cell_type": "raw",
   "id": "68f959e1-fbda-4cb0-b578-7dc0633afe94",
   "metadata": {},
   "source": [
    "Ans:-"
   ]
  },
  {
   "cell_type": "code",
   "execution_count": 16,
   "id": "1b14f17d-8a19-4656-93f2-e535d7eca0f8",
   "metadata": {},
   "outputs": [
    {
     "data": {
      "text/plain": [
       "array([1, 2, 3, 4])"
      ]
     },
     "execution_count": 16,
     "metadata": {},
     "output_type": "execute_result"
    }
   ],
   "source": [
    "arr2[ 0,0:4]"
   ]
  },
  {
   "cell_type": "raw",
   "id": "5a3f87a2-6d7d-468d-beb2-276fa68bcaec",
   "metadata": {},
   "source": [
    " 5. How do you access the element at the third row and fourth column from the given numpy array?\n",
    " [[1, 2, 3, 4]\n",
    " [5, 6, 7, 8],\n",
    " [9, 10, 11, 12]]"
   ]
  },
  {
   "cell_type": "raw",
   "id": "b392517d-0012-4513-8dc3-baeb79346362",
   "metadata": {},
   "source": [
    "Answer:-"
   ]
  },
  {
   "cell_type": "code",
   "execution_count": 20,
   "id": "44517c46-8d10-4fcd-8755-a8e124774472",
   "metadata": {},
   "outputs": [
    {
     "data": {
      "text/plain": [
       "12"
      ]
     },
     "execution_count": 20,
     "metadata": {},
     "output_type": "execute_result"
    }
   ],
   "source": [
    "arr2[2][3]"
   ]
  },
  {
   "cell_type": "raw",
   "id": "d1b2f38e-4e23-4227-9348-db04d7c9a87f",
   "metadata": {},
   "source": [
    "6. Write code to extract all odd-indexed elements from the given numpy array?"
   ]
  },
  {
   "cell_type": "raw",
   "id": "0da457ea-d302-4dbb-b69f-5d37f180e4ab",
   "metadata": {},
   "source": [
    "Ans:-"
   ]
  },
  {
   "cell_type": "code",
   "execution_count": 30,
   "id": "0a31c26e-9e44-4c8d-8d30-8dfd25918ccf",
   "metadata": {},
   "outputs": [
    {
     "data": {
      "text/plain": [
       "array([ 1,  3,  5,  7,  9, 11])"
      ]
     },
     "execution_count": 30,
     "metadata": {},
     "output_type": "execute_result"
    }
   ],
   "source": [
    "np.extract(arr2%2 !=0,arr2)"
   ]
  },
  {
   "cell_type": "markdown",
   "id": "59c577eb-1e62-4724-87bc-18bb3930f9e2",
   "metadata": {},
   "source": [
    "               Or "
   ]
  },
  {
   "cell_type": "code",
   "execution_count": 29,
   "id": "fd6b3bdc-53a1-487f-bd9d-116c4845b490",
   "metadata": {},
   "outputs": [
    {
     "name": "stdout",
     "output_type": "stream",
     "text": [
      "Odd-indexed elements: [ 1  3  5  7  9 11]\n"
     ]
    }
   ],
   "source": [
    "odd_elements = arr2[arr2 % 2 == 1]\n",
    "\n",
    "print(f\"Odd-indexed elements: {odd_elements}\")"
   ]
  },
  {
   "cell_type": "raw",
   "id": "2dd8ab93-4c9a-40f9-80dc-53828ee5da7a",
   "metadata": {},
   "source": [
    " 7. How can you generate a random 3x3 matrix with values between 0 and 1?"
   ]
  },
  {
   "cell_type": "markdown",
   "id": "f432fe33-ff5e-473e-9b15-69f5b855c633",
   "metadata": {},
   "source": [
    "Ans :-"
   ]
  },
  {
   "cell_type": "code",
   "execution_count": 49,
   "id": "23c97171-d9e8-491a-a347-3167b08d391a",
   "metadata": {},
   "outputs": [],
   "source": [
    "Random_matrix = np.random.random((3,3))"
   ]
  },
  {
   "cell_type": "code",
   "execution_count": 50,
   "id": "f940cbf7-6437-475c-871d-567d917da4b2",
   "metadata": {},
   "outputs": [
    {
     "data": {
      "text/plain": [
       "array([[0.87560018, 0.89342016, 0.30520091],\n",
       "       [0.73711871, 0.44649629, 0.20155574],\n",
       "       [0.2406117 , 0.06084186, 0.16639821]])"
      ]
     },
     "execution_count": 50,
     "metadata": {},
     "output_type": "execute_result"
    }
   ],
   "source": [
    "Random_matrix"
   ]
  },
  {
   "cell_type": "raw",
   "id": "603799dd-f42b-41e0-8293-551dc5a1a076",
   "metadata": {},
   "source": [
    "8. Describe the difference between np.random.rand and np.random.randn?"
   ]
  },
  {
   "cell_type": "raw",
   "id": "fbc5e6c7-81dc-4a62-b60d-9bf66e5c45cc",
   "metadata": {},
   "source": [
    "np.random.rand creates an array of the given shape and populate it with random samples from a uniform distribution over [0, 1). \n",
    " \n",
    "Exp:-                   \n",
    "                                                                                                                         "
   ]
  },
  {
   "cell_type": "code",
   "execution_count": 55,
   "id": "96bd8837-af02-41ca-a3cc-8d6dcd0d451e",
   "metadata": {},
   "outputs": [
    {
     "data": {
      "text/plain": [
       "array([[0.51441006, 0.65381058],\n",
       "       [0.48713444, 0.68732894]])"
      ]
     },
     "execution_count": 55,
     "metadata": {},
     "output_type": "execute_result"
    }
   ],
   "source": [
    "np.random.rand(2,2)"
   ]
  },
  {
   "cell_type": "markdown",
   "id": "64011e43-65ab-41b2-bbb2-4e37b7ff74bc",
   "metadata": {},
   "source": [
    "while np.random.randn creates an array of the given shape and populate it with random samples from a normal distribution with a specific mean and standard deviation.\n",
    "\n",
    "Exp:-"
   ]
  },
  {
   "cell_type": "code",
   "execution_count": 60,
   "id": "cc11c1ce-e3d1-48c2-a13a-18c65ba790d2",
   "metadata": {},
   "outputs": [
    {
     "data": {
      "text/plain": [
       "array([[-1.76942914, -0.66798011],\n",
       "       [-0.37386673,  1.21665565]])"
      ]
     },
     "execution_count": 60,
     "metadata": {},
     "output_type": "execute_result"
    }
   ],
   "source": [
    "np.random.randn(2,2)"
   ]
  },
  {
   "cell_type": "raw",
   "id": "15de3204-6fdc-44cf-afed-8335a60a9f8b",
   "metadata": {},
   "source": [
    "9. Write code to increase the dimension of the following array?\n",
    " [[1, 2, 3, 4]\n",
    " [5, 6, 7, 8],\n",
    " [9, 10, 11, 12]]"
   ]
  },
  {
   "cell_type": "raw",
   "id": "4b7497de-1973-4e4d-ad45-4f4a69c53e34",
   "metadata": {},
   "source": [
    "Ans :-"
   ]
  },
  {
   "cell_type": "code",
   "execution_count": 61,
   "id": "9935118e-2ff6-4f19-b459-9ff303bcc942",
   "metadata": {},
   "outputs": [],
   "source": [
    "arr3=np.expand_dims(arr1, axis = 1)"
   ]
  },
  {
   "cell_type": "code",
   "execution_count": 62,
   "id": "b4774a82-1e7a-4ee0-a25f-072cd9f90b9d",
   "metadata": {},
   "outputs": [
    {
     "data": {
      "text/plain": [
       "array([[[ 1,  2,  3,  4]],\n",
       "\n",
       "       [[ 5,  6,  7,  8]],\n",
       "\n",
       "       [[ 9, 10, 11, 12]]])"
      ]
     },
     "execution_count": 62,
     "metadata": {},
     "output_type": "execute_result"
    }
   ],
   "source": [
    "arr3"
   ]
  },
  {
   "cell_type": "code",
   "execution_count": 63,
   "id": "0ad6a118-4ef0-4916-bb10-4189a37bf22b",
   "metadata": {},
   "outputs": [],
   "source": [
    "arr4=np.expand_dims(arr1, axis = 0)"
   ]
  },
  {
   "cell_type": "code",
   "execution_count": 64,
   "id": "731732e2-7d35-40ed-8d3b-55e93ea58956",
   "metadata": {},
   "outputs": [
    {
     "data": {
      "text/plain": [
       "array([[[ 1,  2,  3,  4],\n",
       "        [ 5,  6,  7,  8],\n",
       "        [ 9, 10, 11, 12]]])"
      ]
     },
     "execution_count": 64,
     "metadata": {},
     "output_type": "execute_result"
    }
   ],
   "source": [
    "arr4"
   ]
  },
  {
   "cell_type": "raw",
   "id": "faedbde5-a427-46e9-9d00-12956df840ef",
   "metadata": {},
   "source": [
    "10. How to transpose the following array in NumPy?\n",
    " [[1, 2, 3, 4]\n",
    " [5, 6, 7, 8],\n",
    " [9, 10, 11, 12]]"
   ]
  },
  {
   "cell_type": "raw",
   "id": "899e9628-8d0d-4c89-985e-e31b3cef1026",
   "metadata": {},
   "source": [
    "Ans :-"
   ]
  },
  {
   "cell_type": "code",
   "execution_count": 67,
   "id": "3558f456-57bb-4107-8f3c-002eb0fe35e7",
   "metadata": {},
   "outputs": [],
   "source": [
    "arr5=np.array([[1, 2, 3, 4],[5, 6, 7, 8],[9, 10, 11, 12]])"
   ]
  },
  {
   "cell_type": "code",
   "execution_count": 68,
   "id": "1bd15a08-5014-4960-96c7-cf62c9d0468b",
   "metadata": {},
   "outputs": [
    {
     "data": {
      "text/plain": [
       "array([[ 1,  5,  9],\n",
       "       [ 2,  6, 10],\n",
       "       [ 3,  7, 11],\n",
       "       [ 4,  8, 12]])"
      ]
     },
     "execution_count": 68,
     "metadata": {},
     "output_type": "execute_result"
    }
   ],
   "source": [
    "arr5.T"
   ]
  },
  {
   "cell_type": "raw",
   "id": "ff27f689-a8a7-4014-a825-aaf8247750a0",
   "metadata": {},
   "source": [
    "11. Consider the following matrix:\n",
    "Matrix A: [[1, 2, 3, 4] [5, 6, 7, 8],[9, 10, 11, 12]]\n",
    "Matrix B: [[1, 2, 3, 4] [5, 6, 7, 8],[9, 10, 11, 12]]\n",
    " \n",
    " Perform the following operation using Python:\n",
    "1.Index wise multiplicatio\n",
    "2.Matrix multiplication\n",
    "3.Add both the matrices\n",
    "4.Subtract matrix B from A\n",
    "5.Divide Matrix B by A"
   ]
  },
  {
   "cell_type": "code",
   "execution_count": 71,
   "id": "fca3d821-769e-4547-af41-1c6a8b9bd144",
   "metadata": {},
   "outputs": [],
   "source": [
    "Arr6 = np.array([[1, 2, 3, 4],[5, 6, 7, 8],[9, 10, 11, 12]])\n",
    "Arr7 = np.array([[1, 2, 3, 4],[5, 6, 7, 8],[9, 10, 11, 12]])"
   ]
  },
  {
   "cell_type": "code",
   "execution_count": 72,
   "id": "cedb65b2-837b-4c92-8b29-6438e6ee8980",
   "metadata": {},
   "outputs": [
    {
     "data": {
      "text/plain": [
       "array([[ 1,  2,  3,  4],\n",
       "       [ 5,  6,  7,  8],\n",
       "       [ 9, 10, 11, 12]])"
      ]
     },
     "execution_count": 72,
     "metadata": {},
     "output_type": "execute_result"
    }
   ],
   "source": [
    "Arr6"
   ]
  },
  {
   "cell_type": "code",
   "execution_count": 73,
   "id": "3b7681bf-1fe6-4ea9-9a86-2f67ad5c1e48",
   "metadata": {},
   "outputs": [
    {
     "data": {
      "text/plain": [
       "array([[ 1,  2,  3,  4],\n",
       "       [ 5,  6,  7,  8],\n",
       "       [ 9, 10, 11, 12]])"
      ]
     },
     "execution_count": 73,
     "metadata": {},
     "output_type": "execute_result"
    }
   ],
   "source": [
    "Arr7"
   ]
  },
  {
   "cell_type": "code",
   "execution_count": 74,
   "id": "858587d3-a587-4d1e-ab95-913a4481c418",
   "metadata": {},
   "outputs": [
    {
     "data": {
      "text/plain": [
       "array([[  1,   4,   9,  16],\n",
       "       [ 25,  36,  49,  64],\n",
       "       [ 81, 100, 121, 144]])"
      ]
     },
     "execution_count": 74,
     "metadata": {},
     "output_type": "execute_result"
    }
   ],
   "source": [
    "Arr6*Arr7"
   ]
  },
  {
   "cell_type": "code",
   "execution_count": 75,
   "id": "95cfe872-2ab1-4138-b4c6-5b060c56e1dd",
   "metadata": {},
   "outputs": [
    {
     "ename": "ValueError",
     "evalue": "matmul: Input operand 1 has a mismatch in its core dimension 0, with gufunc signature (n?,k),(k,m?)->(n?,m?) (size 3 is different from 4)",
     "output_type": "error",
     "traceback": [
      "\u001b[0;31m---------------------------------------------------------------------------\u001b[0m",
      "\u001b[0;31mValueError\u001b[0m                                Traceback (most recent call last)",
      "Cell \u001b[0;32mIn[75], line 1\u001b[0m\n\u001b[0;32m----> 1\u001b[0m \u001b[43mArr6\u001b[49m\u001b[38;5;129;43m@Arr7\u001b[39;49m\n",
      "\u001b[0;31mValueError\u001b[0m: matmul: Input operand 1 has a mismatch in its core dimension 0, with gufunc signature (n?,k),(k,m?)->(n?,m?) (size 3 is different from 4)"
     ]
    }
   ],
   "source": [
    "Arr6@Arr7"
   ]
  },
  {
   "cell_type": "raw",
   "id": "409b1854-f5dd-4877-8725-1e90410a4e0d",
   "metadata": {},
   "source": [
    "Matrix multiplication is not possible as in 3*4 and 3*4 3 not equal to 4 but we can  do given below "
   ]
  },
  {
   "cell_type": "code",
   "execution_count": 76,
   "id": "90146bfe-2b1b-44dd-8cf2-9803d0032869",
   "metadata": {},
   "outputs": [
    {
     "data": {
      "text/plain": [
       "array([[ 30,  70, 110],\n",
       "       [ 70, 174, 278],\n",
       "       [110, 278, 446]])"
      ]
     },
     "execution_count": 76,
     "metadata": {},
     "output_type": "execute_result"
    }
   ],
   "source": [
    "Arr6@Arr7.T"
   ]
  },
  {
   "cell_type": "code",
   "execution_count": 77,
   "id": "2705bde9-2fab-431d-84c4-7b411e460fa3",
   "metadata": {},
   "outputs": [
    {
     "data": {
      "text/plain": [
       "array([[ 2,  4,  6,  8],\n",
       "       [10, 12, 14, 16],\n",
       "       [18, 20, 22, 24]])"
      ]
     },
     "execution_count": 77,
     "metadata": {},
     "output_type": "execute_result"
    }
   ],
   "source": [
    "Arr6+Arr7"
   ]
  },
  {
   "cell_type": "code",
   "execution_count": 78,
   "id": "e24b13e6-6eec-414e-ab41-8291901e247c",
   "metadata": {},
   "outputs": [
    {
     "data": {
      "text/plain": [
       "array([[0, 0, 0, 0],\n",
       "       [0, 0, 0, 0],\n",
       "       [0, 0, 0, 0]])"
      ]
     },
     "execution_count": 78,
     "metadata": {},
     "output_type": "execute_result"
    }
   ],
   "source": [
    "Arr6-Arr7"
   ]
  },
  {
   "cell_type": "code",
   "execution_count": 79,
   "id": "a2aafa1e-f9ff-427b-b639-7b281e3017dd",
   "metadata": {},
   "outputs": [
    {
     "data": {
      "text/plain": [
       "array([[1., 1., 1., 1.],\n",
       "       [1., 1., 1., 1.],\n",
       "       [1., 1., 1., 1.]])"
      ]
     },
     "execution_count": 79,
     "metadata": {},
     "output_type": "execute_result"
    }
   ],
   "source": [
    "Arr6/Arr7"
   ]
  },
  {
   "cell_type": "raw",
   "id": "70f9d1e9-5e78-4449-a396-aa61e1876ea6",
   "metadata": {},
   "source": [
    "12.  Which function in Numpy can be used to swap the byte order of an array?\n",
    " "
   ]
  },
  {
   "cell_type": "raw",
   "id": "62462674-9465-4d51-9689-28db3e069513",
   "metadata": {},
   "source": [
    "Ans :-"
   ]
  },
  {
   "cell_type": "raw",
   "id": "058976b3-ea18-4633-b5ed-9e8abee00ca0",
   "metadata": {},
   "source": [
    "ndarray.byteswap() function is used in numpty for swapping the byte order."
   ]
  },
  {
   "cell_type": "code",
   "execution_count": 89,
   "id": "687f0ed1-3e2c-48fc-956c-da53ba6a41a9",
   "metadata": {},
   "outputs": [],
   "source": [
    "Arr8 = np.array([1,2,3], dtype =  np.int16)"
   ]
  },
  {
   "cell_type": "code",
   "execution_count": 90,
   "id": "cf3f55c5-6af1-4967-bfc6-5d12f7b40377",
   "metadata": {},
   "outputs": [
    {
     "name": "stdout",
     "output_type": "stream",
     "text": [
      "[256 512 768]\n"
     ]
    }
   ],
   "source": [
    "print(Arr8.byteswap(True))"
   ]
  },
  {
   "cell_type": "raw",
   "id": "dd0dd0bd-2dc9-4a0a-8309-459a247dd45e",
   "metadata": {},
   "source": [
    "13.  What is the significance of the np.linalg.inv function?\n",
    " "
   ]
  },
  {
   "cell_type": "raw",
   "id": "14064563-167c-48fd-b7eb-e60b1c6b7707",
   "metadata": {},
   "source": [
    "Ans:- It is used to find the inverse of anon-singular matrix using numpy library.\n",
    "\n",
    "Exp:-"
   ]
  },
  {
   "cell_type": "code",
   "execution_count": 91,
   "id": "d4324578-912e-4414-b316-37162414d6d2",
   "metadata": {},
   "outputs": [],
   "source": [
    "Arr9 = np.diag([1,3,4])"
   ]
  },
  {
   "cell_type": "code",
   "execution_count": 92,
   "id": "1c81d3c6-9efb-4162-821a-cc42717d749c",
   "metadata": {},
   "outputs": [
    {
     "data": {
      "text/plain": [
       "array([[1, 0, 0],\n",
       "       [0, 3, 0],\n",
       "       [0, 0, 4]])"
      ]
     },
     "execution_count": 92,
     "metadata": {},
     "output_type": "execute_result"
    }
   ],
   "source": [
    "Arr9"
   ]
  },
  {
   "cell_type": "code",
   "execution_count": 93,
   "id": "ed5c055e-d2ff-40c7-8f5c-81b296186fdc",
   "metadata": {},
   "outputs": [
    {
     "data": {
      "text/plain": [
       "array([[1.        , 0.        , 0.        ],\n",
       "       [0.        , 0.33333333, 0.        ],\n",
       "       [0.        , 0.        , 0.25      ]])"
      ]
     },
     "execution_count": 93,
     "metadata": {},
     "output_type": "execute_result"
    }
   ],
   "source": [
    "np.linalg.inv(Arr9)"
   ]
  },
  {
   "cell_type": "raw",
   "id": "7aae71a6-6000-451b-aac4-7ca9d52510ba",
   "metadata": {},
   "source": [
    "14. What does the np.reshape function do, and how is it used?"
   ]
  },
  {
   "cell_type": "raw",
   "id": "dc8f4ef2-8b46-4195-bb90-5465d318743c",
   "metadata": {},
   "source": [
    "Ans :- np.reshape() is used to reshape the dimension of  array but size of array doesnot changes just dimension of array changes.\n",
    "Exp :- "
   ]
  },
  {
   "cell_type": "code",
   "execution_count": 94,
   "id": "e31e8037-e0c3-431c-8985-73df687bcd24",
   "metadata": {},
   "outputs": [],
   "source": [
    "Arr10 = np.array([[1,2],[3,4]])"
   ]
  },
  {
   "cell_type": "code",
   "execution_count": 96,
   "id": "42374a83-dc5e-4079-a40e-605a1a0a6b3f",
   "metadata": {},
   "outputs": [
    {
     "data": {
      "text/plain": [
       "array([[1, 2],\n",
       "       [3, 4]])"
      ]
     },
     "execution_count": 96,
     "metadata": {},
     "output_type": "execute_result"
    }
   ],
   "source": [
    "Arr10"
   ]
  },
  {
   "cell_type": "code",
   "execution_count": 95,
   "id": "cae9e54f-b87b-48e0-b1e7-ffffc3ee3d1d",
   "metadata": {},
   "outputs": [
    {
     "data": {
      "text/plain": [
       "array([[1, 2, 3, 4]])"
      ]
     },
     "execution_count": 95,
     "metadata": {},
     "output_type": "execute_result"
    }
   ],
   "source": [
    "Arr10.reshape(1,4)"
   ]
  },
  {
   "cell_type": "code",
   "execution_count": 97,
   "id": "782bc982-875c-4328-8617-c81ebfb39490",
   "metadata": {},
   "outputs": [
    {
     "data": {
      "text/plain": [
       "array([[1],\n",
       "       [2],\n",
       "       [3],\n",
       "       [4]])"
      ]
     },
     "execution_count": 97,
     "metadata": {},
     "output_type": "execute_result"
    }
   ],
   "source": [
    "Arr10.reshape(4,1)"
   ]
  },
  {
   "cell_type": "raw",
   "id": "102eb136-5d6f-4064-8a93-65a1bc34ef29",
   "metadata": {},
   "source": [
    "15. What is broadcasting in Numpy?"
   ]
  },
  {
   "cell_type": "raw",
   "id": "ee62f709-db60-4441-9e9b-abf52440275a",
   "metadata": {},
   "source": [
    "Ans :-The term broadcasting refers to the ability of NumPy to treat arrays with different dimensions during arithmetic operations. This process involves certain rules that allow the smaller array to be ‘broadcast’ across the larger one, ensuring that they have compatible shapes for these operations.\n",
    "\n",
    "Broadcasting is not limited to two arrays; it can be applied over multiple arrays as well.\n",
    "  In other words broadcasting simply means u are doing some changes  with each and every element of the array.\n",
    "  \n",
    "  Exp :-"
   ]
  },
  {
   "cell_type": "code",
   "execution_count": 99,
   "id": "2850a7f1-f1f0-40d1-ab09-c226d68f6d2d",
   "metadata": {},
   "outputs": [],
   "source": [
    "Arr11 = np.zeros((3,3))"
   ]
  },
  {
   "cell_type": "code",
   "execution_count": 100,
   "id": "ab5d5678-c526-4860-b3cc-87f2f6f510a4",
   "metadata": {},
   "outputs": [
    {
     "data": {
      "text/plain": [
       "array([[0., 0., 0.],\n",
       "       [0., 0., 0.],\n",
       "       [0., 0., 0.]])"
      ]
     },
     "execution_count": 100,
     "metadata": {},
     "output_type": "execute_result"
    }
   ],
   "source": [
    "Arr11"
   ]
  },
  {
   "cell_type": "code",
   "execution_count": 101,
   "id": "4bc51618-0790-4728-beb4-437cd5565365",
   "metadata": {},
   "outputs": [
    {
     "data": {
      "text/plain": [
       "array([[5., 5., 5.],\n",
       "       [5., 5., 5.],\n",
       "       [5., 5., 5.]])"
      ]
     },
     "execution_count": 101,
     "metadata": {},
     "output_type": "execute_result"
    }
   ],
   "source": [
    "Arr11 +5"
   ]
  },
  {
   "cell_type": "raw",
   "id": "d7e2b11f-7d10-41a9-a2f8-25ee40b5a0b8",
   "metadata": {},
   "source": [
    "The above example shows that we are broadcasting every element of array with a fixed increment as 5."
   ]
  },
  {
   "cell_type": "code",
   "execution_count": null,
   "id": "010c490b-4143-4b6d-b625-1928185e2fd1",
   "metadata": {},
   "outputs": [],
   "source": []
  }
 ],
 "metadata": {
  "kernelspec": {
   "display_name": "Python 3 (ipykernel)",
   "language": "python",
   "name": "python3"
  },
  "language_info": {
   "codemirror_mode": {
    "name": "ipython",
    "version": 3
   },
   "file_extension": ".py",
   "mimetype": "text/x-python",
   "name": "python",
   "nbconvert_exporter": "python",
   "pygments_lexer": "ipython3",
   "version": "3.10.8"
  }
 },
 "nbformat": 4,
 "nbformat_minor": 5
}
