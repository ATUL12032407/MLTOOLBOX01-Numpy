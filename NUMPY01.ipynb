{
 "cells": [
  {
   "cell_type": "code",
   "execution_count": null,
   "id": "e2b8c672-543d-4a5c-b0fc-92ce36e97126",
   "metadata": {},
   "outputs": [],
   "source": [
    "ML TOOLBOX \n",
    "    |\n",
    "____|_____________________________________________\n",
    "|       |          |         |          |         |\n",
    "Numpy  Pandas  Seaborn   Mathplotlib  Statistics MLOps"
   ]
  },
  {
   "cell_type": "markdown",
   "id": "1b417cd0-28fc-4585-b037-653b66d7f677",
   "metadata": {},
   "source": [
    " Functions are some python program which can be reused."
   ]
  },
  {
   "cell_type": "markdown",
   "id": "aaeb88aa-5e8b-4a57-a717-210c34dab692",
   "metadata": {},
   "source": [
    "Library:-Collection of function so that it can be reusable and optimised."
   ]
  },
  {
   "cell_type": "markdown",
   "id": "6f761d24-5b75-4753-a89d-18aab1f01005",
   "metadata": {},
   "source": [
    "Nump:- Numerical Python  used in data analysis"
   ]
  },
  {
   "cell_type": "code",
   "execution_count": 4,
   "id": "27d2fe11-3833-42cd-b310-ae51746760ef",
   "metadata": {},
   "outputs": [],
   "source": [
    "import numpy as np"
   ]
  },
  {
   "cell_type": "markdown",
   "id": "71dd0c79-94ea-41eb-8441-33a673ae0593",
   "metadata": {},
   "source": [
    "Matlab,Tora ,Lingo these were softwares for mathematical computations.\n",
    "\n",
    "Numpy was created in  2005 by Travis Oilphant at Bell Laboratory "
   ]
  },
  {
   "cell_type": "markdown",
   "id": "7c3e426c-a255-4d76-b9f9-f47b52feaf6b",
   "metadata": {},
   "source": [
    "Numpy is built on C/C++ because C++ is developted as the fastest programming languague.\n",
    "Why? Numpy ?\n",
    "Numpy is fast due to one of it's basic component that is array."
   ]
  },
  {
   "cell_type": "markdown",
   "id": "7e56d89c-b506-4907-ac78-28760cff4be2",
   "metadata": {},
   "source": [
    "How to see any library version ?"
   ]
  },
  {
   "cell_type": "code",
   "execution_count": 8,
   "id": "973ee3cb-4745-497a-b23c-b026665757e4",
   "metadata": {},
   "outputs": [
    {
     "data": {
      "text/plain": [
       "'1.23.5'"
      ]
     },
     "execution_count": 8,
     "metadata": {},
     "output_type": "execute_result"
    }
   ],
   "source": [
    "np.__version__"
   ]
  },
  {
   "cell_type": "code",
   "execution_count": 10,
   "id": "b3228b3e-727f-4948-8e62-a761d8a06dbf",
   "metadata": {},
   "outputs": [
    {
     "name": "stdout",
     "output_type": "stream",
     "text": [
      "\n",
      "NumPy\n",
      "=====\n",
      "\n",
      "Provides\n",
      "  1. An array object of arbitrary homogeneous items\n",
      "  2. Fast mathematical operations over arrays\n",
      "  3. Linear Algebra, Fourier Transforms, Random Number Generation\n",
      "\n",
      "How to use the documentation\n",
      "----------------------------\n",
      "Documentation is available in two forms: docstrings provided\n",
      "with the code, and a loose standing reference guide, available from\n",
      "`the NumPy homepage <https://numpy.org>`_.\n",
      "\n",
      "We recommend exploring the docstrings using\n",
      "`IPython <https://ipython.org>`_, an advanced Python shell with\n",
      "TAB-completion and introspection capabilities.  See below for further\n",
      "instructions.\n",
      "\n",
      "The docstring examples assume that `numpy` has been imported as `np`::\n",
      "\n",
      "  >>> import numpy as np\n",
      "\n",
      "Code snippets are indicated by three greater-than signs::\n",
      "\n",
      "  >>> x = 42\n",
      "  >>> x = x + 1\n",
      "\n",
      "Use the built-in ``help`` function to view a function's docstring::\n",
      "\n",
      "  >>> help(np.sort)\n",
      "  ... # doctest: +SKIP\n",
      "\n",
      "For some objects, ``np.info(obj)`` may provide additional help.  This is\n",
      "particularly true if you see the line \"Help on ufunc object:\" at the top\n",
      "of the help() page.  Ufuncs are implemented in C, not Python, for speed.\n",
      "The native Python help() does not know how to view their help, but our\n",
      "np.info() function does.\n",
      "\n",
      "To search for documents containing a keyword, do::\n",
      "\n",
      "  >>> np.lookfor('keyword')\n",
      "  ... # doctest: +SKIP\n",
      "\n",
      "General-purpose documents like a glossary and help on the basic concepts\n",
      "of numpy are available under the ``doc`` sub-module::\n",
      "\n",
      "  >>> from numpy import doc\n",
      "  >>> help(doc)\n",
      "  ... # doctest: +SKIP\n",
      "\n",
      "Available subpackages\n",
      "---------------------\n",
      "lib\n",
      "    Basic functions used by several sub-packages.\n",
      "random\n",
      "    Core Random Tools\n",
      "linalg\n",
      "    Core Linear Algebra Tools\n",
      "fft\n",
      "    Core FFT routines\n",
      "polynomial\n",
      "    Polynomial tools\n",
      "testing\n",
      "    NumPy testing tools\n",
      "distutils\n",
      "    Enhancements to distutils with support for\n",
      "    Fortran compilers support and more.\n",
      "\n",
      "Utilities\n",
      "---------\n",
      "test\n",
      "    Run numpy unittests\n",
      "show_config\n",
      "    Show numpy build configuration\n",
      "dual\n",
      "    Overwrite certain functions with high-performance SciPy tools.\n",
      "    Note: `numpy.dual` is deprecated.  Use the functions from NumPy or Scipy\n",
      "    directly instead of importing them from `numpy.dual`.\n",
      "matlib\n",
      "    Make everything matrices.\n",
      "__version__\n",
      "    NumPy version string\n",
      "\n",
      "Viewing documentation using IPython\n",
      "-----------------------------------\n",
      "Start IPython with the NumPy profile (``ipython -p numpy``), which will\n",
      "import `numpy` under the alias `np`.  Then, use the ``cpaste`` command to\n",
      "paste examples into the shell.  To see which functions are available in\n",
      "`numpy`, type ``np.<TAB>`` (where ``<TAB>`` refers to the TAB key), or use\n",
      "``np.*cos*?<ENTER>`` (where ``<ENTER>`` refers to the ENTER key) to narrow\n",
      "down the list.  To view the docstring for a function, use\n",
      "``np.cos?<ENTER>`` (to view the docstring) and ``np.cos??<ENTER>`` (to view\n",
      "the source code).\n",
      "\n",
      "Copies vs. in-place operation\n",
      "-----------------------------\n",
      "Most of the functions in `numpy` return a copy of the array argument\n",
      "(e.g., `np.sort`).  In-place versions of these functions are often\n",
      "available as array methods, i.e. ``x = np.array([1,2,3]); x.sort()``.\n",
      "Exceptions to this rule are documented.\n",
      "\n",
      "\n"
     ]
    }
   ],
   "source": [
    "print(np.__doc__)"
   ]
  },
  {
   "cell_type": "markdown",
   "id": "63bf63cf-f69e-4803-ab7a-eeb2b2c4b62e",
   "metadata": {},
   "source": [
    "Why Numpy ?"
   ]
  },
  {
   "cell_type": "markdown",
   "id": "68140db6-1fd8-40af-9671-a755027ae3ae",
   "metadata": {},
   "source": [
    "Around 10,000 mathematical function in numpy and it is faster as compare to other data structure as it uses array."
   ]
  },
  {
   "cell_type": "code",
   "execution_count": 17,
   "id": "18ce26ea-bc7b-4dd6-92c0-010baa8f91bc",
   "metadata": {},
   "outputs": [],
   "source": [
    "l=[1,2,3,4,5]"
   ]
  },
  {
   "cell_type": "code",
   "execution_count": 18,
   "id": "f01ba334-2b25-46f2-91ab-e42a9de7781f",
   "metadata": {},
   "outputs": [
    {
     "data": {
      "text/plain": [
       "array([1, 2, 3, 4, 5])"
      ]
     },
     "execution_count": 18,
     "metadata": {},
     "output_type": "execute_result"
    }
   ],
   "source": [
    "np.array(l)"
   ]
  },
  {
   "cell_type": "code",
   "execution_count": 19,
   "id": "34a967f5-cacd-404f-a930-4eca74279000",
   "metadata": {},
   "outputs": [
    {
     "data": {
      "text/plain": [
       "numpy.ndarray"
      ]
     },
     "execution_count": 19,
     "metadata": {},
     "output_type": "execute_result"
    }
   ],
   "source": [
    "type(np.array(l))"
   ]
  },
  {
   "cell_type": "markdown",
   "id": "52c36fd1-bc4f-49fd-9ebf-3f6ce0098214",
   "metadata": {},
   "source": [
    "What does this mean?"
   ]
  },
  {
   "cell_type": "markdown",
   "id": "37e02dcf-08d2-4a62-bb91-51f35c6225bf",
   "metadata": {},
   "source": [
    "ndarray means n-dimensional array."
   ]
  },
  {
   "cell_type": "markdown",
   "id": "ebfae3e2-18fb-4578-8901-783d0b659c90",
   "metadata": {},
   "source": [
    "What is array?"
   ]
  },
  {
   "cell_type": "markdown",
   "id": "74f1505b-bed6-4fbb-b863-265d68d461e9",
   "metadata": {},
   "source": [
    "Array is the way  in which numpy stores the only the same type of data i.e. homogenious data."
   ]
  },
  {
   "cell_type": "markdown",
   "id": "cd0330c7-2f8e-4fd6-aee8-a1fee961fed5",
   "metadata": {},
   "source": [
    "Why numpy faster than list ?"
   ]
  },
  {
   "cell_type": "code",
   "execution_count": 20,
   "id": "47d89f07-f22e-4368-9d73-0e5e6a2e6062",
   "metadata": {},
   "outputs": [
    {
     "data": {
      "text/plain": [
       "numpy.ndarray"
      ]
     },
     "execution_count": 20,
     "metadata": {},
     "output_type": "execute_result"
    }
   ],
   "source": [
    "type(np.array(l))"
   ]
  },
  {
   "cell_type": "code",
   "execution_count": 24,
   "id": "bd05d4fe-7e65-453d-9f36-f331ad80d778",
   "metadata": {},
   "outputs": [],
   "source": [
    "arr=np.array(l)"
   ]
  },
  {
   "cell_type": "code",
   "execution_count": 25,
   "id": "ceaa7c8f-159d-41e0-8a50-3b81af345e48",
   "metadata": {},
   "outputs": [
    {
     "data": {
      "text/plain": [
       "1"
      ]
     },
     "execution_count": 25,
     "metadata": {},
     "output_type": "execute_result"
    }
   ],
   "source": [
    "arr.ndim"
   ]
  },
  {
   "cell_type": "code",
   "execution_count": 32,
   "id": "759350b6-c26e-48f7-a594-9d177a02e669",
   "metadata": {},
   "outputs": [
    {
     "data": {
      "text/plain": [
       "array(['1', '2', '3', '4', '5', 'Rishi'], dtype='<U21')"
      ]
     },
     "execution_count": 32,
     "metadata": {},
     "output_type": "execute_result"
    }
   ],
   "source": [
    "l=[1,2,3,4,5,\"Rishi\"]\n",
    "arr1 = np.array(l) \n",
    "arr1"
   ]
  },
  {
   "cell_type": "markdown",
   "id": "c3a83a09-b542-4079-acd5-d859f7450aab",
   "metadata": {},
   "source": [
    "What is this arr.ndim ?"
   ]
  },
  {
   "cell_type": "code",
   "execution_count": 34,
   "id": "02d32771-4a1f-422a-8b26-00bffce56906",
   "metadata": {},
   "outputs": [],
   "source": [
    "arr1=np.array([[1,2,3],[4,5,6]])"
   ]
  },
  {
   "cell_type": "code",
   "execution_count": 35,
   "id": "5ca54b40-e20c-4554-9c23-fa8e9a0da067",
   "metadata": {},
   "outputs": [
    {
     "data": {
      "text/plain": [
       "array([[1, 2, 3],\n",
       "       [4, 5, 6]])"
      ]
     },
     "execution_count": 35,
     "metadata": {},
     "output_type": "execute_result"
    }
   ],
   "source": [
    "arr1"
   ]
  },
  {
   "cell_type": "code",
   "execution_count": 36,
   "id": "3b06f21e-492e-41b2-80ea-ebfe4247a24f",
   "metadata": {},
   "outputs": [
    {
     "data": {
      "text/plain": [
       "2"
      ]
     },
     "execution_count": 36,
     "metadata": {},
     "output_type": "execute_result"
    }
   ],
   "source": [
    "arr1.ndim"
   ]
  },
  {
   "cell_type": "code",
   "execution_count": 39,
   "id": "57b88cb7-0697-4a4e-a79e-ac43480e4674",
   "metadata": {},
   "outputs": [],
   "source": [
    "l1=[1,2,3,4]"
   ]
  },
  {
   "cell_type": "code",
   "execution_count": 42,
   "id": "f8728c62-70e5-4c67-b570-f5d755bbe323",
   "metadata": {},
   "outputs": [],
   "source": [
    "matrix1 = np.matrix(l)"
   ]
  },
  {
   "cell_type": "code",
   "execution_count": 43,
   "id": "4c3f5fa1-06ac-40fc-966b-d5e943f059cc",
   "metadata": {},
   "outputs": [
    {
     "data": {
      "text/plain": [
       "matrix([[1, 2, 3, 4]])"
      ]
     },
     "execution_count": 43,
     "metadata": {},
     "output_type": "execute_result"
    }
   ],
   "source": [
    "matrix1 "
   ]
  },
  {
   "cell_type": "code",
   "execution_count": 44,
   "id": "b138ad94-c361-40ab-b538-9fcd0c15bdc4",
   "metadata": {},
   "outputs": [],
   "source": [
    "l=[1,2,3,4,5,\"Rishi\"]"
   ]
  },
  {
   "cell_type": "code",
   "execution_count": 46,
   "id": "8f1c0d19-dc39-474e-86c8-d687c11d02b9",
   "metadata": {},
   "outputs": [],
   "source": [
    "matrix2 = np.matrix(l)"
   ]
  },
  {
   "cell_type": "code",
   "execution_count": 47,
   "id": "6b7f6bfd-82e1-4281-8767-f516ab8f409a",
   "metadata": {},
   "outputs": [
    {
     "data": {
      "text/plain": [
       "matrix([['1', '2', '3', '4', '5', 'Rishi']], dtype='<U21')"
      ]
     },
     "execution_count": 47,
     "metadata": {},
     "output_type": "execute_result"
    }
   ],
   "source": [
    "matrix2"
   ]
  },
  {
   "cell_type": "code",
   "execution_count": 48,
   "id": "1d3fa482-000a-4769-943e-f5aebee06030",
   "metadata": {},
   "outputs": [
    {
     "data": {
      "text/plain": [
       "2"
      ]
     },
     "execution_count": 48,
     "metadata": {},
     "output_type": "execute_result"
    }
   ],
   "source": [
    "matrix2.ndim"
   ]
  },
  {
   "cell_type": "markdown",
   "id": "b4649901-9b92-40ea-9aea-be267f223deb",
   "metadata": {},
   "source": [
    "Matrix is bydefault 2-dimension."
   ]
  },
  {
   "cell_type": "code",
   "execution_count": 55,
   "id": "eeb9a859-49d2-424f-93ac-ec12007a86ab",
   "metadata": {},
   "outputs": [
    {
     "data": {
      "text/plain": [
       "matrix([[1, 2],\n",
       "        [3, 4],\n",
       "        [5, 6]])"
      ]
     },
     "execution_count": 55,
     "metadata": {},
     "output_type": "execute_result"
    }
   ],
   "source": [
    "np.matrix([[1,2],\n",
    "            [3,4],\n",
    "            [5,6]])"
   ]
  },
  {
   "cell_type": "markdown",
   "id": "4ba7de6c-eafb-481a-ab7c-6c6e69575e1e",
   "metadata": {},
   "source": [
    "more way to convert to array "
   ]
  },
  {
   "cell_type": "code",
   "execution_count": null,
   "id": "08c9da33-5ce0-478b-b329-b98170cf773b",
   "metadata": {},
   "outputs": [],
   "source": [
    "np.asarray([[1,2],\n",
    "            [3,4],\n",
    "            [5,6]])"
   ]
  },
  {
   "cell_type": "code",
   "execution_count": 58,
   "id": "28420912-3258-455d-aedf-1f8ddb894a31",
   "metadata": {},
   "outputs": [
    {
     "data": {
      "text/plain": [
       "array([[1, 2],\n",
       "       [3, 4],\n",
       "       [5, 6]])"
      ]
     },
     "execution_count": 58,
     "metadata": {},
     "output_type": "execute_result"
    }
   ],
   "source": [
    "np.asanyarray([[1,2],\n",
    "            [3,4],\n",
    "            [5,6]])\n",
    "#Convert the input to an ndarray, but pass ndarray subclasses through.\n"
   ]
  },
  {
   "cell_type": "code",
   "execution_count": 60,
   "id": "332795af-f2f7-43f7-8424-2b26bafad535",
   "metadata": {},
   "outputs": [
    {
     "data": {
      "text/plain": [
       "matrix([[1, 2, 3, 4]])"
      ]
     },
     "execution_count": 60,
     "metadata": {},
     "output_type": "execute_result"
    }
   ],
   "source": [
    "matrix1"
   ]
  },
  {
   "cell_type": "code",
   "execution_count": 61,
   "id": "a6689c51-e26f-4a01-879f-0ca78a1efb7f",
   "metadata": {},
   "outputs": [
    {
     "data": {
      "text/plain": [
       "matrix([[1, 2, 3, 4]])"
      ]
     },
     "execution_count": 61,
     "metadata": {},
     "output_type": "execute_result"
    }
   ],
   "source": [
    "np.asanyarray(matrix1)"
   ]
  },
  {
   "cell_type": "markdown",
   "id": "e2a85c65-0d91-429d-9b0f-113b0a95abc0",
   "metadata": {},
   "source": [
    "Not converted to the array it is still the matrix."
   ]
  },
  {
   "cell_type": "markdown",
   "id": "0165e79b-adb3-4771-ba64-44a8d25af526",
   "metadata": {},
   "source": [
    "Means it will convert anything into an array but if it is already a subclass of an array it will simply pass through it that is difference between numpy.asanyarray and numpy.asarray"
   ]
  },
  {
   "cell_type": "code",
   "execution_count": 62,
   "id": "5548ced2-d30f-401a-ab76-d69346e15ecc",
   "metadata": {},
   "outputs": [
    {
     "data": {
      "text/plain": [
       "array([[1, 2],\n",
       "       [3, 4],\n",
       "       [5, 6]])"
      ]
     },
     "execution_count": 62,
     "metadata": {},
     "output_type": "execute_result"
    }
   ],
   "source": [
    "np.array([[1,2],\n",
    "            [3,4],\n",
    "            [5,6]])"
   ]
  },
  {
   "cell_type": "code",
   "execution_count": 63,
   "id": "d6200c77-41be-40ea-ac94-bdcd437d1298",
   "metadata": {},
   "outputs": [
    {
     "data": {
      "text/plain": [
       "tuple"
      ]
     },
     "execution_count": 63,
     "metadata": {},
     "output_type": "execute_result"
    }
   ],
   "source": [
    "t= ([1,2,3],[4,5,6])\n",
    "type(t)"
   ]
  },
  {
   "cell_type": "code",
   "execution_count": 64,
   "id": "062cf80f-c0ef-4c09-9fe3-76e80c5f2ea1",
   "metadata": {},
   "outputs": [
    {
     "data": {
      "text/plain": [
       "array([[1, 2, 3],\n",
       "       [4, 5, 6]])"
      ]
     },
     "execution_count": 64,
     "metadata": {},
     "output_type": "execute_result"
    }
   ],
   "source": [
    "np.array(t)"
   ]
  },
  {
   "cell_type": "code",
   "execution_count": 65,
   "id": "adfef91f-e2bb-4902-a74b-36a0b8898704",
   "metadata": {},
   "outputs": [
    {
     "data": {
      "text/plain": [
       "array(5)"
      ]
     },
     "execution_count": 65,
     "metadata": {},
     "output_type": "execute_result"
    }
   ],
   "source": [
    "a=5 \n",
    "np.array(a)"
   ]
  },
  {
   "cell_type": "code",
   "execution_count": 66,
   "id": "e1bcd653-f267-4a51-8337-523ed59d67bc",
   "metadata": {},
   "outputs": [],
   "source": [
    "l=[1,2,3,4,5]\n",
    "array3 = np.array(l)"
   ]
  },
  {
   "cell_type": "code",
   "execution_count": 69,
   "id": "624caccd-c33a-4e10-91ce-f52889d97d47",
   "metadata": {},
   "outputs": [],
   "source": [
    "a=array3"
   ]
  },
  {
   "cell_type": "code",
   "execution_count": 70,
   "id": "b3a960ad-5a4c-435c-a675-ae31254b18b8",
   "metadata": {},
   "outputs": [
    {
     "data": {
      "text/plain": [
       "array([1, 2, 3, 4, 5])"
      ]
     },
     "execution_count": 70,
     "metadata": {},
     "output_type": "execute_result"
    }
   ],
   "source": [
    "a"
   ]
  },
  {
   "cell_type": "code",
   "execution_count": 71,
   "id": "35c229a8-e105-443e-8fe4-a49c942b7afb",
   "metadata": {},
   "outputs": [],
   "source": [
    "array3[0]=1000"
   ]
  },
  {
   "cell_type": "code",
   "execution_count": 72,
   "id": "ec2f3815-85b0-45cf-b430-eec5139ea3d8",
   "metadata": {},
   "outputs": [
    {
     "data": {
      "text/plain": [
       "array([1000,    2,    3,    4,    5])"
      ]
     },
     "execution_count": 72,
     "metadata": {},
     "output_type": "execute_result"
    }
   ],
   "source": [
    "array3"
   ]
  },
  {
   "cell_type": "code",
   "execution_count": 74,
   "id": "9e61f3b5-9d3e-4c44-b1a8-7af36dcc02fd",
   "metadata": {},
   "outputs": [
    {
     "data": {
      "text/plain": [
       "array([1000,    2,    3,    4,    5])"
      ]
     },
     "execution_count": 74,
     "metadata": {},
     "output_type": "execute_result"
    }
   ],
   "source": [
    "a"
   ]
  },
  {
   "cell_type": "markdown",
   "id": "77d8b40b-0200-487a-b763-a463cd4270ae",
   "metadata": {},
   "source": [
    "Cheating Example"
   ]
  },
  {
   "cell_type": "markdown",
   "id": "ef6c004b-5efa-4603-a85c-6c25fe8050b6",
   "metadata": {},
   "source": [
    "Whenever change in one araay chac=nge gets in other array then it is shallow copy ."
   ]
  },
  {
   "cell_type": "code",
   "execution_count": 75,
   "id": "11b01d19-1d48-4971-a78b-d8fa3d6d2ff2",
   "metadata": {},
   "outputs": [],
   "source": [
    "b=a.copy()\n",
    "b[0]=2000"
   ]
  },
  {
   "cell_type": "code",
   "execution_count": 76,
   "id": "dc60cb8c-ce66-4ce3-aade-e13e647289d8",
   "metadata": {},
   "outputs": [
    {
     "data": {
      "text/plain": [
       "array([2000,    2,    3,    4,    5])"
      ]
     },
     "execution_count": 76,
     "metadata": {},
     "output_type": "execute_result"
    }
   ],
   "source": [
    "b"
   ]
  },
  {
   "cell_type": "markdown",
   "id": "4601ed50-e63a-4c9f-b344-14fec34ec668",
   "metadata": {},
   "source": [
    "In deep copy it  will re-allocate to a new memory location so change in b will not reflect in other."
   ]
  },
  {
   "cell_type": "markdown",
   "id": "259f265a-a255-4e75-97f8-378621787597",
   "metadata": {},
   "source": [
    "To create array we have 3 functions "
   ]
  },
  {
   "cell_type": "markdown",
   "id": "cedabe48-b0bc-4e86-a4d2-44d6a881ff22",
   "metadata": {},
   "source": [
    "Functions inside numpy to generate array"
   ]
  },
  {
   "cell_type": "code",
   "execution_count": 77,
   "id": "05643284-e03d-47fa-ad3d-9ea4b0e8ae70",
   "metadata": {},
   "outputs": [
    {
     "data": {
      "text/plain": [
       "array([[ True, False, False],\n",
       "       [False,  True, False],\n",
       "       [False, False,  True]])"
      ]
     },
     "execution_count": 77,
     "metadata": {},
     "output_type": "execute_result"
    }
   ],
   "source": [
    "#1.\n",
    "np.fromfunction(lambda i,j :i==j, shape =(3,3))"
   ]
  },
  {
   "cell_type": "code",
   "execution_count": 78,
   "id": "4410cf09-efe4-46ed-8581-7cdf248fce8b",
   "metadata": {},
   "outputs": [
    {
     "data": {
      "text/plain": [
       "array([[ True, False, False],\n",
       "       [False,  True, False],\n",
       "       [False, False,  True]])"
      ]
     },
     "execution_count": 78,
     "metadata": {},
     "output_type": "execute_result"
    }
   ],
   "source": [
    "np.fromfunction(lambda i,j :i==j, (3,3))"
   ]
  },
  {
   "cell_type": "code",
   "execution_count": 79,
   "id": "427b457a-0150-44ed-83bb-275fb90c53b4",
   "metadata": {},
   "outputs": [
    {
     "data": {
      "text/plain": [
       "(5,)"
      ]
     },
     "execution_count": 79,
     "metadata": {},
     "output_type": "execute_result"
    }
   ],
   "source": [
    "arr.shape"
   ]
  },
  {
   "cell_type": "code",
   "execution_count": 80,
   "id": "cecbc3be-3c98-4f55-b068-0a81a77e171d",
   "metadata": {},
   "outputs": [
    {
     "data": {
      "text/plain": [
       "(2, 3)"
      ]
     },
     "execution_count": 80,
     "metadata": {},
     "output_type": "execute_result"
    }
   ],
   "source": [
    "arr1.shape"
   ]
  },
  {
   "cell_type": "markdown",
   "id": "8e99a2d1-e36f-4e9b-849f-61243ca354e1",
   "metadata": {},
   "source": [
    "2 rows and 3 coloumns are there. "
   ]
  },
  {
   "cell_type": "code",
   "execution_count": 82,
   "id": "901047aa-f6b4-446e-95ec-9040bd290dcb",
   "metadata": {},
   "outputs": [
    {
     "data": {
      "text/plain": [
       "5"
      ]
     },
     "execution_count": 82,
     "metadata": {},
     "output_type": "execute_result"
    }
   ],
   "source": [
    "arr.size"
   ]
  },
  {
   "cell_type": "code",
   "execution_count": 83,
   "id": "84914f78-0303-4ff4-be2a-ddf678a6ae0f",
   "metadata": {},
   "outputs": [
    {
     "data": {
      "text/plain": [
       "6"
      ]
     },
     "execution_count": 83,
     "metadata": {},
     "output_type": "execute_result"
    }
   ],
   "source": [
    "arr1.size"
   ]
  },
  {
   "cell_type": "code",
   "execution_count": 85,
   "id": "5ff97501-ec6a-4361-89b9-fb3f79a91ce3",
   "metadata": {},
   "outputs": [
    {
     "data": {
      "text/plain": [
       "array([[0., 0., 0.],\n",
       "       [0., 1., 2.],\n",
       "       [0., 2., 4.]])"
      ]
     },
     "execution_count": 85,
     "metadata": {},
     "output_type": "execute_result"
    }
   ],
   "source": [
    "np.fromfunction(lambda i,j :i*j, (3,3)) "
   ]
  },
  {
   "cell_type": "code",
   "execution_count": 86,
   "id": "12f1de0a-216b-4adf-a2e4-3b4b587dc82d",
   "metadata": {},
   "outputs": [
    {
     "data": {
      "text/plain": [
       "range(0, 5)"
      ]
     },
     "execution_count": 86,
     "metadata": {},
     "output_type": "execute_result"
    }
   ],
   "source": [
    "range(0,5)"
   ]
  },
  {
   "cell_type": "markdown",
   "id": "c2f7e35f-dd6e-4665-9250-5066ba1cca57",
   "metadata": {},
   "source": [
    "It is an iterator "
   ]
  },
  {
   "cell_type": "code",
   "execution_count": 87,
   "id": "598b2bbe-318b-4842-a790-e1ef379cb6eb",
   "metadata": {},
   "outputs": [
    {
     "name": "stdout",
     "output_type": "stream",
     "text": [
      "0\n",
      "1\n",
      "2\n",
      "3\n",
      "4\n"
     ]
    }
   ],
   "source": [
    "for i in range(5):\n",
    "    print(i)"
   ]
  },
  {
   "cell_type": "code",
   "execution_count": 89,
   "id": "319648d9-7dca-4e5c-8c14-282937d57550",
   "metadata": {},
   "outputs": [
    {
     "data": {
      "text/plain": [
       "[0, 1, 2, 3, 4]"
      ]
     },
     "execution_count": 89,
     "metadata": {},
     "output_type": "execute_result"
    }
   ],
   "source": [
    "[i for i in range(5)]"
   ]
  },
  {
   "cell_type": "code",
   "execution_count": 90,
   "id": "6900f161-34ff-4c88-8068-d895dcd26f5b",
   "metadata": {},
   "outputs": [
    {
     "data": {
      "text/plain": [
       "[0, 1, 2, 3, 4]"
      ]
     },
     "execution_count": 90,
     "metadata": {},
     "output_type": "execute_result"
    }
   ],
   "source": [
    "list(i for i in range(5))"
   ]
  },
  {
   "cell_type": "code",
   "execution_count": 92,
   "id": "a6ceb2f2-8005-475d-ab3b-881028c9df70",
   "metadata": {},
   "outputs": [
    {
     "data": {
      "text/plain": [
       "<generator object <genexpr> at 0x7f552f0c0eb0>"
      ]
     },
     "execution_count": 92,
     "metadata": {},
     "output_type": "execute_result"
    }
   ],
   "source": [
    "( i*i for i in range(5))"
   ]
  },
  {
   "cell_type": "code",
   "execution_count": 93,
   "id": "b5e68fd1-630f-4dec-a2fd-909b1c91de15",
   "metadata": {},
   "outputs": [],
   "source": [
    "iterable= ( i*i for i in range(5))"
   ]
  },
  {
   "cell_type": "code",
   "execution_count": 104,
   "id": "c3af8e83-b0c4-4934-bcf8-4f40ce537800",
   "metadata": {},
   "outputs": [
    {
     "data": {
      "text/plain": [
       "array([], dtype=int64)"
      ]
     },
     "execution_count": 104,
     "metadata": {},
     "output_type": "execute_result"
    }
   ],
   "source": [
    "np.fromiter(iterable, int )"
   ]
  },
  {
   "cell_type": "code",
   "execution_count": 99,
   "id": "e3cb2aa1-689c-4398-8887-cbd1ae4fe07d",
   "metadata": {},
   "outputs": [
    {
     "data": {
      "text/plain": [
       "array([23., 34., 56.])"
      ]
     },
     "execution_count": 99,
     "metadata": {},
     "output_type": "execute_result"
    }
   ],
   "source": [
    "np.fromstring('23 34 56', sep =' ')"
   ]
  },
  {
   "cell_type": "markdown",
   "id": "b4944be4-1532-4e1a-8926-9f40696b81ac",
   "metadata": {},
   "source": [
    "Separator is the value which is used to separate the value."
   ]
  },
  {
   "cell_type": "code",
   "execution_count": 100,
   "id": "b021ac76-9f01-4945-8528-85d1dcb53f91",
   "metadata": {},
   "outputs": [
    {
     "name": "stderr",
     "output_type": "stream",
     "text": [
      "/tmp/ipykernel_135/194877578.py:1: DeprecationWarning: string or file could not be read to its end due to unmatched data; this will raise a ValueError in the future.\n",
      "  np.fromstring('Suhani,Ajay,ANMESHA', sep =' ')\n"
     ]
    },
    {
     "data": {
      "text/plain": [
       "array([], dtype=float64)"
      ]
     },
     "execution_count": 100,
     "metadata": {},
     "output_type": "execute_result"
    }
   ],
   "source": [
    "np.fromstring('Suhani,Ajay,ANMESHA', sep =' ')"
   ]
  },
  {
   "cell_type": "code",
   "execution_count": 105,
   "id": "b668834c-03be-45bd-bc2d-c45486d7d99d",
   "metadata": {},
   "outputs": [
    {
     "data": {
      "text/plain": [
       "array([1, 2, 3, 4, 5])"
      ]
     },
     "execution_count": 105,
     "metadata": {},
     "output_type": "execute_result"
    }
   ],
   "source": [
    "arr"
   ]
  },
  {
   "cell_type": "code",
   "execution_count": 106,
   "id": "7a2b429b-aa79-4f72-b3f5-79552ac96ca8",
   "metadata": {},
   "outputs": [
    {
     "data": {
      "text/plain": [
       "(5,)"
      ]
     },
     "execution_count": 106,
     "metadata": {},
     "output_type": "execute_result"
    }
   ],
   "source": [
    "arr.shape"
   ]
  },
  {
   "cell_type": "code",
   "execution_count": 107,
   "id": "8dbc886f-322f-459e-a243-092e65afab7d",
   "metadata": {},
   "outputs": [
    {
     "data": {
      "text/plain": [
       "5"
      ]
     },
     "execution_count": 107,
     "metadata": {},
     "output_type": "execute_result"
    }
   ],
   "source": [
    "arr.size"
   ]
  },
  {
   "cell_type": "code",
   "execution_count": 108,
   "id": "3f8864a7-5c2d-45cc-93b9-12347b31d05c",
   "metadata": {},
   "outputs": [
    {
     "data": {
      "text/plain": [
       "dtype('int64')"
      ]
     },
     "execution_count": 108,
     "metadata": {},
     "output_type": "execute_result"
    }
   ],
   "source": [
    "arr.dtype"
   ]
  },
  {
   "cell_type": "code",
   "execution_count": 110,
   "id": "4c19b3e7-7877-4218-aeef-b72194266f7a",
   "metadata": {},
   "outputs": [
    {
     "data": {
      "text/plain": [
       "dtype('int64')"
      ]
     },
     "execution_count": 110,
     "metadata": {},
     "output_type": "execute_result"
    }
   ],
   "source": [
    "l=[1,2,3]\n",
    "arr=np.array(l)\n",
    "arr.dtype"
   ]
  },
  {
   "cell_type": "code",
   "execution_count": 111,
   "id": "11d4e0c3-fa71-445c-8808-bd1c038cbcb1",
   "metadata": {},
   "outputs": [
    {
     "data": {
      "text/plain": [
       "array([1, 2, 3])"
      ]
     },
     "execution_count": 111,
     "metadata": {},
     "output_type": "execute_result"
    }
   ],
   "source": [
    "arr"
   ]
  },
  {
   "cell_type": "code",
   "execution_count": 117,
   "id": "c1b392ad-fb7b-44be-8c9b-5d02991f3756",
   "metadata": {},
   "outputs": [
    {
     "data": {
      "text/plain": [
       "[1, 2, 3, 4]"
      ]
     },
     "execution_count": 117,
     "metadata": {},
     "output_type": "execute_result"
    }
   ],
   "source": [
    "list(range(1,5))"
   ]
  },
  {
   "cell_type": "code",
   "execution_count": 118,
   "id": "7939e9d9-c225-4516-ab8e-f20d33ed771e",
   "metadata": {},
   "outputs": [
    {
     "data": {
      "text/plain": [
       "range(0, 5)"
      ]
     },
     "execution_count": 118,
     "metadata": {},
     "output_type": "execute_result"
    }
   ],
   "source": [
    "range(5)"
   ]
  },
  {
   "cell_type": "code",
   "execution_count": null,
   "id": "6f08b232-c680-463b-9d5b-d7a7bcb0714c",
   "metadata": {},
   "outputs": [],
   "source": [
    "What is difference and second thing can i use decimal"
   ]
  },
  {
   "cell_type": "code",
   "execution_count": 119,
   "id": "a0b38d0d-347e-40e6-a872-0670a060ab43",
   "metadata": {},
   "outputs": [
    {
     "ename": "TypeError",
     "evalue": "'float' object cannot be interpreted as an integer",
     "output_type": "error",
     "traceback": [
      "\u001b[0;31m---------------------------------------------------------------------------\u001b[0m",
      "\u001b[0;31mTypeError\u001b[0m                                 Traceback (most recent call last)",
      "Cell \u001b[0;32mIn[119], line 1\u001b[0m\n\u001b[0;32m----> 1\u001b[0m \u001b[38;5;28mlist\u001b[39m(\u001b[38;5;28;43mrange\u001b[39;49m\u001b[43m(\u001b[49m\u001b[38;5;241;43m1.0\u001b[39;49m\u001b[43m,\u001b[49m\u001b[38;5;241;43m5.0\u001b[39;49m\u001b[43m)\u001b[49m)\n",
      "\u001b[0;31mTypeError\u001b[0m: 'float' object cannot be interpreted as an integer"
     ]
    }
   ],
   "source": [
    "list(range(1.0,5.0))"
   ]
  },
  {
   "cell_type": "code",
   "execution_count": 120,
   "id": "c916643d-961d-4291-9391-8e48a6e2f2a5",
   "metadata": {},
   "outputs": [
    {
     "ename": "TypeError",
     "evalue": "'float' object cannot be interpreted as an integer",
     "output_type": "error",
     "traceback": [
      "\u001b[0;31m---------------------------------------------------------------------------\u001b[0m",
      "\u001b[0;31mTypeError\u001b[0m                                 Traceback (most recent call last)",
      "Cell \u001b[0;32mIn[120], line 1\u001b[0m\n\u001b[0;32m----> 1\u001b[0m \u001b[38;5;28;43mrange\u001b[39;49m\u001b[43m(\u001b[49m\u001b[38;5;241;43m5.0\u001b[39;49m\u001b[43m)\u001b[49m\n",
      "\u001b[0;31mTypeError\u001b[0m: 'float' object cannot be interpreted as an integer"
     ]
    }
   ],
   "source": [
    "range(5.0)"
   ]
  },
  {
   "cell_type": "code",
   "execution_count": 122,
   "id": "5e7b8032-8f91-41cc-ad41-5960c23b5085",
   "metadata": {},
   "outputs": [
    {
     "data": {
      "text/plain": [
       "array([ 0.1,  0.3,  0.5,  0.7,  0.9,  1.1,  1.3,  1.5,  1.7,  1.9,  2.1,\n",
       "        2.3,  2.5,  2.7,  2.9,  3.1,  3.3,  3.5,  3.7,  3.9,  4.1,  4.3,\n",
       "        4.5,  4.7,  4.9,  5.1,  5.3,  5.5,  5.7,  5.9,  6.1,  6.3,  6.5,\n",
       "        6.7,  6.9,  7.1,  7.3,  7.5,  7.7,  7.9,  8.1,  8.3,  8.5,  8.7,\n",
       "        8.9,  9.1,  9.3,  9.5,  9.7,  9.9, 10.1])"
      ]
     },
     "execution_count": 122,
     "metadata": {},
     "output_type": "execute_result"
    }
   ],
   "source": [
    "np.arange(0.1,10.2,0.2)"
   ]
  },
  {
   "cell_type": "code",
   "execution_count": 123,
   "id": "3cdcec10-e081-485d-9a86-ca953a13e23e",
   "metadata": {},
   "outputs": [
    {
     "data": {
      "text/plain": [
       "[0.1,\n",
       " 0.30000000000000004,\n",
       " 0.5000000000000001,\n",
       " 0.7000000000000001,\n",
       " 0.9000000000000001,\n",
       " 1.1000000000000003,\n",
       " 1.3000000000000003,\n",
       " 1.5000000000000004,\n",
       " 1.7000000000000004,\n",
       " 1.9000000000000004,\n",
       " 2.1000000000000005,\n",
       " 2.3000000000000007,\n",
       " 2.5000000000000004,\n",
       " 2.7000000000000006,\n",
       " 2.900000000000001,\n",
       " 3.1000000000000005,\n",
       " 3.3000000000000007,\n",
       " 3.500000000000001,\n",
       " 3.7000000000000006,\n",
       " 3.900000000000001,\n",
       " 4.1000000000000005,\n",
       " 4.300000000000001,\n",
       " 4.500000000000001,\n",
       " 4.7,\n",
       " 4.9,\n",
       " 5.1000000000000005,\n",
       " 5.300000000000001,\n",
       " 5.500000000000001,\n",
       " 5.700000000000001,\n",
       " 5.9,\n",
       " 6.1000000000000005,\n",
       " 6.300000000000001,\n",
       " 6.500000000000001,\n",
       " 6.700000000000001,\n",
       " 6.900000000000001,\n",
       " 7.100000000000001,\n",
       " 7.300000000000001,\n",
       " 7.500000000000001,\n",
       " 7.700000000000001,\n",
       " 7.900000000000001,\n",
       " 8.100000000000001,\n",
       " 8.3,\n",
       " 8.500000000000002,\n",
       " 8.700000000000001,\n",
       " 8.900000000000002,\n",
       " 9.100000000000001,\n",
       " 9.3,\n",
       " 9.500000000000002,\n",
       " 9.700000000000001,\n",
       " 9.900000000000002,\n",
       " 10.100000000000001]"
      ]
     },
     "execution_count": 123,
     "metadata": {},
     "output_type": "execute_result"
    }
   ],
   "source": [
    "list(np.arange(0.1,10.2,0.2))"
   ]
  },
  {
   "cell_type": "code",
   "execution_count": 125,
   "id": "fed98d29-9aea-408b-9bdf-d86fc911f033",
   "metadata": {},
   "outputs": [
    {
     "data": {
      "text/plain": [
       "array([1.        , 1.21052632, 1.42105263, 1.63157895, 1.84210526,\n",
       "       2.05263158, 2.26315789, 2.47368421, 2.68421053, 2.89473684,\n",
       "       3.10526316, 3.31578947, 3.52631579, 3.73684211, 3.94736842,\n",
       "       4.15789474, 4.36842105, 4.57894737, 4.78947368, 5.        ])"
      ]
     },
     "execution_count": 125,
     "metadata": {},
     "output_type": "execute_result"
    }
   ],
   "source": [
    "np.linspace(1,5,20)"
   ]
  },
  {
   "cell_type": "markdown",
   "id": "6908adb7-253c-4957-846d-1a6e32ca8251",
   "metadata": {},
   "source": [
    "np.linspace gives at equidistance vaues"
   ]
  },
  {
   "cell_type": "code",
   "execution_count": 126,
   "id": "da1ddb39-e6e9-4c98-af69-3b9947427b4d",
   "metadata": {},
   "outputs": [
    {
     "data": {
      "text/plain": [
       "array([1.        , 1.0201005 , 1.04020101, 1.06030151, 1.08040201,\n",
       "       1.10050251, 1.12060302, 1.14070352, 1.16080402, 1.18090452,\n",
       "       1.20100503, 1.22110553, 1.24120603, 1.26130653, 1.28140704,\n",
       "       1.30150754, 1.32160804, 1.34170854, 1.36180905, 1.38190955,\n",
       "       1.40201005, 1.42211055, 1.44221106, 1.46231156, 1.48241206,\n",
       "       1.50251256, 1.52261307, 1.54271357, 1.56281407, 1.58291457,\n",
       "       1.60301508, 1.62311558, 1.64321608, 1.66331658, 1.68341709,\n",
       "       1.70351759, 1.72361809, 1.74371859, 1.7638191 , 1.7839196 ,\n",
       "       1.8040201 , 1.8241206 , 1.84422111, 1.86432161, 1.88442211,\n",
       "       1.90452261, 1.92462312, 1.94472362, 1.96482412, 1.98492462,\n",
       "       2.00502513, 2.02512563, 2.04522613, 2.06532663, 2.08542714,\n",
       "       2.10552764, 2.12562814, 2.14572864, 2.16582915, 2.18592965,\n",
       "       2.20603015, 2.22613065, 2.24623116, 2.26633166, 2.28643216,\n",
       "       2.30653266, 2.32663317, 2.34673367, 2.36683417, 2.38693467,\n",
       "       2.40703518, 2.42713568, 2.44723618, 2.46733668, 2.48743719,\n",
       "       2.50753769, 2.52763819, 2.54773869, 2.5678392 , 2.5879397 ,\n",
       "       2.6080402 , 2.6281407 , 2.64824121, 2.66834171, 2.68844221,\n",
       "       2.70854271, 2.72864322, 2.74874372, 2.76884422, 2.78894472,\n",
       "       2.80904523, 2.82914573, 2.84924623, 2.86934673, 2.88944724,\n",
       "       2.90954774, 2.92964824, 2.94974874, 2.96984925, 2.98994975,\n",
       "       3.01005025, 3.03015075, 3.05025126, 3.07035176, 3.09045226,\n",
       "       3.11055276, 3.13065327, 3.15075377, 3.17085427, 3.19095477,\n",
       "       3.21105528, 3.23115578, 3.25125628, 3.27135678, 3.29145729,\n",
       "       3.31155779, 3.33165829, 3.35175879, 3.3718593 , 3.3919598 ,\n",
       "       3.4120603 , 3.4321608 , 3.45226131, 3.47236181, 3.49246231,\n",
       "       3.51256281, 3.53266332, 3.55276382, 3.57286432, 3.59296482,\n",
       "       3.61306533, 3.63316583, 3.65326633, 3.67336683, 3.69346734,\n",
       "       3.71356784, 3.73366834, 3.75376884, 3.77386935, 3.79396985,\n",
       "       3.81407035, 3.83417085, 3.85427136, 3.87437186, 3.89447236,\n",
       "       3.91457286, 3.93467337, 3.95477387, 3.97487437, 3.99497487,\n",
       "       4.01507538, 4.03517588, 4.05527638, 4.07537688, 4.09547739,\n",
       "       4.11557789, 4.13567839, 4.15577889, 4.1758794 , 4.1959799 ,\n",
       "       4.2160804 , 4.2361809 , 4.25628141, 4.27638191, 4.29648241,\n",
       "       4.31658291, 4.33668342, 4.35678392, 4.37688442, 4.39698492,\n",
       "       4.41708543, 4.43718593, 4.45728643, 4.47738693, 4.49748744,\n",
       "       4.51758794, 4.53768844, 4.55778894, 4.57788945, 4.59798995,\n",
       "       4.61809045, 4.63819095, 4.65829146, 4.67839196, 4.69849246,\n",
       "       4.71859296, 4.73869347, 4.75879397, 4.77889447, 4.79899497,\n",
       "       4.81909548, 4.83919598, 4.85929648, 4.87939698, 4.89949749,\n",
       "       4.91959799, 4.93969849, 4.95979899, 4.9798995 , 5.        ])"
      ]
     },
     "execution_count": 126,
     "metadata": {},
     "output_type": "execute_result"
    }
   ],
   "source": [
    "np.linspace(1,5,200)"
   ]
  },
  {
   "cell_type": "code",
   "execution_count": 131,
   "id": "026e9705-32d0-4428-ac71-8ca81adf532a",
   "metadata": {},
   "outputs": [
    {
     "data": {
      "text/plain": [
       "array([ 2.        ,  2.72158   ,  3.70349885,  5.0396842 ,  6.85795186,\n",
       "        9.33223232, 12.69920842, 17.28095582, 23.51575188, 32.        ])"
      ]
     },
     "execution_count": 131,
     "metadata": {},
     "output_type": "execute_result"
    }
   ],
   "source": [
    "np.logspace(1,5,10,base = 2)"
   ]
  },
  {
   "cell_type": "code",
   "execution_count": 132,
   "id": "3650b4e6-0db6-41f0-aeae-ce8208268a90",
   "metadata": {},
   "outputs": [
    {
     "data": {
      "text/plain": [
       "array([1.00000000e+01, 2.78255940e+01, 7.74263683e+01, 2.15443469e+02,\n",
       "       5.99484250e+02, 1.66810054e+03, 4.64158883e+03, 1.29154967e+04,\n",
       "       3.59381366e+04, 1.00000000e+05])"
      ]
     },
     "execution_count": 132,
     "metadata": {},
     "output_type": "execute_result"
    }
   ],
   "source": [
    "np.logspace(1,5,10,base = 10)"
   ]
  },
  {
   "cell_type": "code",
   "execution_count": 5,
   "id": "7be5b384-2b24-43c2-b81c-49372b56900a",
   "metadata": {},
   "outputs": [
    {
     "data": {
      "text/plain": [
       "array([0., 0., 0., 0., 0.])"
      ]
     },
     "execution_count": 5,
     "metadata": {},
     "output_type": "execute_result"
    }
   ],
   "source": [
    "np.zeros(5)"
   ]
  },
  {
   "cell_type": "code",
   "execution_count": 6,
   "id": "adc4a73d-4199-40c6-803d-84ba8d8c89aa",
   "metadata": {},
   "outputs": [
    {
     "data": {
      "text/plain": [
       "array([[0., 0., 0., 0.],\n",
       "       [0., 0., 0., 0.],\n",
       "       [0., 0., 0., 0.]])"
      ]
     },
     "execution_count": 6,
     "metadata": {},
     "output_type": "execute_result"
    }
   ],
   "source": [
    "np.zeros((3,4))"
   ]
  },
  {
   "cell_type": "code",
   "execution_count": 7,
   "id": "e11dbfbe-e17e-4d04-b198-338f5bcef68c",
   "metadata": {},
   "outputs": [],
   "source": [
    "arr1 = np.zeros(5)"
   ]
  },
  {
   "cell_type": "code",
   "execution_count": 10,
   "id": "afbcb1a3-b512-44a8-a981-3bede73c7906",
   "metadata": {},
   "outputs": [],
   "source": [
    "arr2 = np.zeros((3,4))"
   ]
  },
  {
   "cell_type": "code",
   "execution_count": 11,
   "id": "e5495af7-a7ec-47e7-929b-af5894aca068",
   "metadata": {},
   "outputs": [
    {
     "data": {
      "text/plain": [
       "2"
      ]
     },
     "execution_count": 11,
     "metadata": {},
     "output_type": "execute_result"
    }
   ],
   "source": [
    "arr2.ndim"
   ]
  },
  {
   "cell_type": "code",
   "execution_count": 12,
   "id": "84596049-1228-4269-b24e-6a86f7c20b5b",
   "metadata": {},
   "outputs": [],
   "source": [
    "arr3 = np.zeros((3,3,4))"
   ]
  },
  {
   "cell_type": "code",
   "execution_count": 13,
   "id": "7146f4fa-5d96-419d-804f-8a2988a29a1e",
   "metadata": {},
   "outputs": [
    {
     "data": {
      "text/plain": [
       "(3, 3, 4)"
      ]
     },
     "execution_count": 13,
     "metadata": {},
     "output_type": "execute_result"
    }
   ],
   "source": [
    "arr3.shape"
   ]
  },
  {
   "cell_type": "code",
   "execution_count": 14,
   "id": "24a5fa1f-5744-4b56-a135-c2c9144b6689",
   "metadata": {},
   "outputs": [
    {
     "data": {
      "text/plain": [
       "array([[[0., 0., 0., 0.],\n",
       "        [0., 0., 0., 0.],\n",
       "        [0., 0., 0., 0.]],\n",
       "\n",
       "       [[0., 0., 0., 0.],\n",
       "        [0., 0., 0., 0.],\n",
       "        [0., 0., 0., 0.]],\n",
       "\n",
       "       [[0., 0., 0., 0.],\n",
       "        [0., 0., 0., 0.],\n",
       "        [0., 0., 0., 0.]]])"
      ]
     },
     "execution_count": 14,
     "metadata": {},
     "output_type": "execute_result"
    }
   ],
   "source": [
    "arr3"
   ]
  },
  {
   "cell_type": "markdown",
   "id": "6ffd43fa-495d-49cb-9918-5210d0f5b267",
   "metadata": {},
   "source": [
    "arr3 = np.zeros((3,3,4))\n",
    "meaning is repeat 3*4 matrix 3 times"
   ]
  },
  {
   "cell_type": "markdown",
   "id": "35d99c55-71a3-45e0-9f3b-fae3bad0c6f3",
   "metadata": {},
   "source": [
    "first 3 is repeatition of times second is 3 column and 4 is rows"
   ]
  },
  {
   "cell_type": "code",
   "execution_count": 16,
   "id": "05d0b158-d9ae-409c-914c-e45f789e448d",
   "metadata": {},
   "outputs": [],
   "source": [
    "arr4 = np.zeros((4,3,4))"
   ]
  },
  {
   "cell_type": "code",
   "execution_count": 17,
   "id": "3a2409a6-64d1-4bb1-af5c-3d1d09b23321",
   "metadata": {},
   "outputs": [
    {
     "data": {
      "text/plain": [
       "array([[[0., 0., 0., 0.],\n",
       "        [0., 0., 0., 0.],\n",
       "        [0., 0., 0., 0.]],\n",
       "\n",
       "       [[0., 0., 0., 0.],\n",
       "        [0., 0., 0., 0.],\n",
       "        [0., 0., 0., 0.]],\n",
       "\n",
       "       [[0., 0., 0., 0.],\n",
       "        [0., 0., 0., 0.],\n",
       "        [0., 0., 0., 0.]],\n",
       "\n",
       "       [[0., 0., 0., 0.],\n",
       "        [0., 0., 0., 0.],\n",
       "        [0., 0., 0., 0.]]])"
      ]
     },
     "execution_count": 17,
     "metadata": {},
     "output_type": "execute_result"
    }
   ],
   "source": [
    "arr4"
   ]
  },
  {
   "cell_type": "code",
   "execution_count": 18,
   "id": "3e1f7906-aa27-4648-a79e-26249808eb9d",
   "metadata": {},
   "outputs": [
    {
     "ename": "AttributeError",
     "evalue": "module 'numpy' has no attribute 'one'",
     "output_type": "error",
     "traceback": [
      "\u001b[0;31m---------------------------------------------------------------------------\u001b[0m",
      "\u001b[0;31mAttributeError\u001b[0m                            Traceback (most recent call last)",
      "Cell \u001b[0;32mIn[18], line 1\u001b[0m\n\u001b[0;32m----> 1\u001b[0m \u001b[43mnp\u001b[49m\u001b[38;5;241;43m.\u001b[39;49m\u001b[43mone\u001b[49m(\u001b[38;5;241m5\u001b[39m)\n",
      "File \u001b[0;32m/opt/conda/lib/python3.10/site-packages/numpy/__init__.py:311\u001b[0m, in \u001b[0;36m__getattr__\u001b[0;34m(attr)\u001b[0m\n\u001b[1;32m    308\u001b[0m     \u001b[38;5;28;01mfrom\u001b[39;00m \u001b[38;5;21;01m.\u001b[39;00m\u001b[38;5;21;01mtesting\u001b[39;00m \u001b[38;5;28;01mimport\u001b[39;00m Tester\n\u001b[1;32m    309\u001b[0m     \u001b[38;5;28;01mreturn\u001b[39;00m Tester\n\u001b[0;32m--> 311\u001b[0m \u001b[38;5;28;01mraise\u001b[39;00m \u001b[38;5;167;01mAttributeError\u001b[39;00m(\u001b[38;5;124m\"\u001b[39m\u001b[38;5;124mmodule \u001b[39m\u001b[38;5;132;01m{!r}\u001b[39;00m\u001b[38;5;124m has no attribute \u001b[39m\u001b[38;5;124m\"\u001b[39m\n\u001b[1;32m    312\u001b[0m                      \u001b[38;5;124m\"\u001b[39m\u001b[38;5;132;01m{!r}\u001b[39;00m\u001b[38;5;124m\"\u001b[39m\u001b[38;5;241m.\u001b[39mformat(\u001b[38;5;18m__name__\u001b[39m, attr))\n",
      "\u001b[0;31mAttributeError\u001b[0m: module 'numpy' has no attribute 'one'"
     ]
    }
   ],
   "source": [
    "np.one(5)"
   ]
  },
  {
   "cell_type": "code",
   "execution_count": 19,
   "id": "d7ba89bb-d259-40cf-93e8-ac980a33f745",
   "metadata": {},
   "outputs": [
    {
     "data": {
      "text/plain": [
       "array([1., 1., 1., 1., 1.])"
      ]
     },
     "execution_count": 19,
     "metadata": {},
     "output_type": "execute_result"
    }
   ],
   "source": [
    "np.ones(5)"
   ]
  },
  {
   "cell_type": "code",
   "execution_count": 20,
   "id": "0c54f8e2-7ea4-45ec-bc63-8ca23bc92f68",
   "metadata": {},
   "outputs": [],
   "source": [
    "arr4 = np.zeros((4,3,3,4))"
   ]
  },
  {
   "cell_type": "code",
   "execution_count": 21,
   "id": "74c9846b-3b95-4ff8-b70e-c32f4fd7bd70",
   "metadata": {},
   "outputs": [
    {
     "data": {
      "text/plain": [
       "array([[[[0., 0., 0., 0.],\n",
       "         [0., 0., 0., 0.],\n",
       "         [0., 0., 0., 0.]],\n",
       "\n",
       "        [[0., 0., 0., 0.],\n",
       "         [0., 0., 0., 0.],\n",
       "         [0., 0., 0., 0.]],\n",
       "\n",
       "        [[0., 0., 0., 0.],\n",
       "         [0., 0., 0., 0.],\n",
       "         [0., 0., 0., 0.]]],\n",
       "\n",
       "\n",
       "       [[[0., 0., 0., 0.],\n",
       "         [0., 0., 0., 0.],\n",
       "         [0., 0., 0., 0.]],\n",
       "\n",
       "        [[0., 0., 0., 0.],\n",
       "         [0., 0., 0., 0.],\n",
       "         [0., 0., 0., 0.]],\n",
       "\n",
       "        [[0., 0., 0., 0.],\n",
       "         [0., 0., 0., 0.],\n",
       "         [0., 0., 0., 0.]]],\n",
       "\n",
       "\n",
       "       [[[0., 0., 0., 0.],\n",
       "         [0., 0., 0., 0.],\n",
       "         [0., 0., 0., 0.]],\n",
       "\n",
       "        [[0., 0., 0., 0.],\n",
       "         [0., 0., 0., 0.],\n",
       "         [0., 0., 0., 0.]],\n",
       "\n",
       "        [[0., 0., 0., 0.],\n",
       "         [0., 0., 0., 0.],\n",
       "         [0., 0., 0., 0.]]],\n",
       "\n",
       "\n",
       "       [[[0., 0., 0., 0.],\n",
       "         [0., 0., 0., 0.],\n",
       "         [0., 0., 0., 0.]],\n",
       "\n",
       "        [[0., 0., 0., 0.],\n",
       "         [0., 0., 0., 0.],\n",
       "         [0., 0., 0., 0.]],\n",
       "\n",
       "        [[0., 0., 0., 0.],\n",
       "         [0., 0., 0., 0.],\n",
       "         [0., 0., 0., 0.]]]])"
      ]
     },
     "execution_count": 21,
     "metadata": {},
     "output_type": "execute_result"
    }
   ],
   "source": [
    "arr4"
   ]
  },
  {
   "cell_type": "code",
   "execution_count": 23,
   "id": "8c6c94a9-c12c-4a1b-b40e-f77a1f6e2e04",
   "metadata": {},
   "outputs": [
    {
     "data": {
      "text/plain": [
       "array([[1., 1., 1., 1.],\n",
       "       [1., 1., 1., 1.],\n",
       "       [1., 1., 1., 1.]])"
      ]
     },
     "execution_count": 23,
     "metadata": {},
     "output_type": "execute_result"
    }
   ],
   "source": [
    "np.ones((3,4))"
   ]
  },
  {
   "cell_type": "code",
   "execution_count": 25,
   "id": "79c1e5d2-4b2f-4940-bc59-331cc24189a9",
   "metadata": {},
   "outputs": [],
   "source": [
    "arr = np.ones((3,4))"
   ]
  },
  {
   "cell_type": "code",
   "execution_count": 26,
   "id": "cbcc98b7-60c1-4b97-824a-c0e253966218",
   "metadata": {},
   "outputs": [
    {
     "data": {
      "text/plain": [
       "array([[6., 6., 6., 6.],\n",
       "       [6., 6., 6., 6.],\n",
       "       [6., 6., 6., 6.]])"
      ]
     },
     "execution_count": 26,
     "metadata": {},
     "output_type": "execute_result"
    }
   ],
   "source": [
    "arr +5"
   ]
  },
  {
   "cell_type": "code",
   "execution_count": 27,
   "id": "d489e242-14ee-45d9-a6e5-7a056bed650b",
   "metadata": {},
   "outputs": [
    {
     "data": {
      "text/plain": [
       "array([[3., 3., 3., 3.],\n",
       "       [3., 3., 3., 3.],\n",
       "       [3., 3., 3., 3.]])"
      ]
     },
     "execution_count": 27,
     "metadata": {},
     "output_type": "execute_result"
    }
   ],
   "source": [
    "arr*3"
   ]
  },
  {
   "cell_type": "markdown",
   "id": "4d0d4cdd-de07-48bc-884f-d6180eef864e",
   "metadata": {},
   "source": [
    "Why u use 0 and 1 ?\n",
    "Used in image processing and etc. "
   ]
  },
  {
   "cell_type": "code",
   "execution_count": 28,
   "id": "1b1f529b-8e39-4738-95cb-ee304adddc50",
   "metadata": {},
   "outputs": [
    {
     "data": {
      "text/plain": [
       "array([[[[[[[[[[[[[1, 1, 1, 1, 1]]]]]]]]]]]]])"
      ]
     },
     "execution_count": 28,
     "metadata": {},
     "output_type": "execute_result"
    }
   ],
   "source": [
    "np.array([[[[[[[[[[[[[1,1,1,1,1,]]]]]]]]]]]]])"
   ]
  },
  {
   "cell_type": "code",
   "execution_count": 29,
   "id": "96d2a775-78a2-41d1-a661-dac5ea6b4a16",
   "metadata": {},
   "outputs": [
    {
     "ename": "AttributeError",
     "evalue": "module 'numpy' has no attribute 'twos'",
     "output_type": "error",
     "traceback": [
      "\u001b[0;31m---------------------------------------------------------------------------\u001b[0m",
      "\u001b[0;31mAttributeError\u001b[0m                            Traceback (most recent call last)",
      "Cell \u001b[0;32mIn[29], line 1\u001b[0m\n\u001b[0;32m----> 1\u001b[0m \u001b[43mnp\u001b[49m\u001b[38;5;241;43m.\u001b[39;49m\u001b[43mtwos\u001b[49m((\u001b[38;5;241m2\u001b[39m,\u001b[38;5;241m3\u001b[39m))\n",
      "File \u001b[0;32m/opt/conda/lib/python3.10/site-packages/numpy/__init__.py:311\u001b[0m, in \u001b[0;36m__getattr__\u001b[0;34m(attr)\u001b[0m\n\u001b[1;32m    308\u001b[0m     \u001b[38;5;28;01mfrom\u001b[39;00m \u001b[38;5;21;01m.\u001b[39;00m\u001b[38;5;21;01mtesting\u001b[39;00m \u001b[38;5;28;01mimport\u001b[39;00m Tester\n\u001b[1;32m    309\u001b[0m     \u001b[38;5;28;01mreturn\u001b[39;00m Tester\n\u001b[0;32m--> 311\u001b[0m \u001b[38;5;28;01mraise\u001b[39;00m \u001b[38;5;167;01mAttributeError\u001b[39;00m(\u001b[38;5;124m\"\u001b[39m\u001b[38;5;124mmodule \u001b[39m\u001b[38;5;132;01m{!r}\u001b[39;00m\u001b[38;5;124m has no attribute \u001b[39m\u001b[38;5;124m\"\u001b[39m\n\u001b[1;32m    312\u001b[0m                      \u001b[38;5;124m\"\u001b[39m\u001b[38;5;132;01m{!r}\u001b[39;00m\u001b[38;5;124m\"\u001b[39m\u001b[38;5;241m.\u001b[39mformat(\u001b[38;5;18m__name__\u001b[39m, attr))\n",
      "\u001b[0;31mAttributeError\u001b[0m: module 'numpy' has no attribute 'twos'"
     ]
    }
   ],
   "source": [
    "np.twos((2,3))"
   ]
  },
  {
   "cell_type": "code",
   "execution_count": 30,
   "id": "4d2402bd-855a-48d0-9540-7cb1cddf2a6d",
   "metadata": {},
   "outputs": [
    {
     "data": {
      "text/plain": [
       "dtype('<U21')"
      ]
     },
     "execution_count": 30,
     "metadata": {},
     "output_type": "execute_result"
    }
   ],
   "source": [
    "l = [1, 2,3, 4,5, \"Prince\"]\n",
    "arr = np.array(l)\n",
    "arr.dtype"
   ]
  },
  {
   "cell_type": "code",
   "execution_count": 31,
   "id": "c9429297-00e1-4136-b102-43a01989ec72",
   "metadata": {},
   "outputs": [
    {
     "data": {
      "text/plain": [
       "array(['1', '2', '3', '4', '5', 'Prince'], dtype='<U21')"
      ]
     },
     "execution_count": 31,
     "metadata": {},
     "output_type": "execute_result"
    }
   ],
   "source": [
    "arr"
   ]
  },
  {
   "cell_type": "markdown",
   "id": "6744d011-4f8c-4f17-b2b8-4191ba96c17a",
   "metadata": {},
   "source": [
    "Question : Why numpy?"
   ]
  },
  {
   "cell_type": "code",
   "execution_count": 32,
   "id": "9a0e3492-5018-4d92-92ee-98f5e37db725",
   "metadata": {},
   "outputs": [
    {
     "name": "stdout",
     "output_type": "stream",
     "text": [
      "Matrix product using np.dot:\n",
      " [[19 22]\n",
      " [43 50]]\n",
      "Matrix product using @ operator:\n",
      " [[19 22]\n",
      " [43 50]]\n"
     ]
    }
   ],
   "source": [
    "import numpy as np\n",
    "\n",
    "# Example matrices\n",
    "A = np.array([[1, 2], [3, 4]])\n",
    "B = np.array([[5, 6], [7, 8]])\n",
    "\n",
    "# Using np.dot for matrix multiplication\n",
    "matrix_product = np.dot(A, B)\n",
    "print(\"Matrix product using np.dot:\\n\", matrix_product)\n",
    "\n",
    "# Using @ operator for matrix multiplication (Python 3.5 and later)\n",
    "matrix_product = A @ B\n",
    "print(\"Matrix product using @ operator:\\n\", matrix_product)"
   ]
  },
  {
   "cell_type": "code",
   "execution_count": 33,
   "id": "bb981149-67a4-4b36-b931-2b971aee9996",
   "metadata": {},
   "outputs": [
    {
     "name": "stdout",
     "output_type": "stream",
     "text": [
      "Time taken for vectorized calculation: 22.307157516479492 milliseconds\n",
      "Time taken for calculation using a for loop: 755.281925201416 milliseconds\n"
     ]
    }
   ],
   "source": [
    "import numpy as np\n",
    "import time\n",
    "\n",
    "# Generate two random NumPy arrays with one million elements each\n",
    "array1 = np.random.rand(1000000)\n",
    "array2 = np.random.rand(1000000)\n",
    "\n",
    "# Measure time for the vectorized version using np.dot\n",
    "start_time_vectorized = time.time()\n",
    "result_vectorized = np.dot(array1, array2)\n",
    "end_time_vectorized = time.time()\n",
    "\n",
    "# Print the time taken for the vectorized version\n",
    "print(\"Time taken for vectorized calculation: \" + str(1000 * (end_time_vectorized - start_time_vectorized)) + \" milliseconds\")\n",
    "\n",
    "# Reset result_vectorized to 0\n",
    "result_vectorized = 0\n",
    "\n",
    "# Measure time for the version using a for loop\n",
    "start_time_for_loop = time.time()\n",
    "for index in range(1000000):\n",
    "    result_vectorized += array1[index] * array2[index]\n",
    "end_time_for_loop = time.time()\n",
    "\n",
    "# Print the time taken for the for loop version\n",
    "print(\"Time taken for calculation using a for loop: \" + str(1000 * (end_time_for_loop - start_time_for_loop)) + \" milliseconds\")\n"
   ]
  },
  {
   "cell_type": "code",
   "execution_count": 34,
   "id": "2514c311-cc05-4643-b15a-9b371699f811",
   "metadata": {},
   "outputs": [
    {
     "data": {
      "text/plain": [
       "array([[1, 2],\n",
       "       [5, 6]])"
      ]
     },
     "execution_count": 34,
     "metadata": {},
     "output_type": "execute_result"
    }
   ],
   "source": [
    "np.array(np.matrix([[1, 2], [5, 6]]))"
   ]
  },
  {
   "cell_type": "code",
   "execution_count": 35,
   "id": "52a7f71f-dc8a-4741-b2fb-62948e4992f4",
   "metadata": {},
   "outputs": [],
   "source": [
    "arr = np.array([[1, 2, 3], [4, 5, 6]])"
   ]
  },
  {
   "cell_type": "code",
   "execution_count": 36,
   "id": "6d6ab075-6354-45b4-b360-1779e752e5bc",
   "metadata": {},
   "outputs": [
    {
     "data": {
      "text/plain": [
       "6"
      ]
     },
     "execution_count": 36,
     "metadata": {},
     "output_type": "execute_result"
    }
   ],
   "source": [
    "np.count_nonzero(arr)"
   ]
  },
  {
   "cell_type": "code",
   "execution_count": 37,
   "id": "88095500-b25c-46fc-8606-c22b4029aeb6",
   "metadata": {},
   "outputs": [
    {
     "name": "stdout",
     "output_type": "stream",
     "text": [
      "Input  scalar :  12\n",
      "output array from input scalar :  12\n",
      "<class 'numpy.ndarray'>\n"
     ]
    }
   ],
   "source": [
    "import numpy as geek \n",
    "  \n",
    "my_scalar = 12\n",
    "   \n",
    "print (\"Input  scalar : \", my_scalar) \n",
    "    \n",
    "out_arr = geek.asanyarray(my_scalar)  \n",
    "print (\"output array from input scalar : \", out_arr)  \n",
    "print(type(out_arr)) "
   ]
  },
  {
   "cell_type": "code",
   "execution_count": null,
   "id": "09eea1fb-87d3-478e-ada5-d0c1f7694da3",
   "metadata": {},
   "outputs": [],
   "source": []
  }
 ],
 "metadata": {
  "kernelspec": {
   "display_name": "Python 3 (ipykernel)",
   "language": "python",
   "name": "python3"
  },
  "language_info": {
   "codemirror_mode": {
    "name": "ipython",
    "version": 3
   },
   "file_extension": ".py",
   "mimetype": "text/x-python",
   "name": "python",
   "nbconvert_exporter": "python",
   "pygments_lexer": "ipython3",
   "version": "3.10.8"
  }
 },
 "nbformat": 4,
 "nbformat_minor": 5
}
