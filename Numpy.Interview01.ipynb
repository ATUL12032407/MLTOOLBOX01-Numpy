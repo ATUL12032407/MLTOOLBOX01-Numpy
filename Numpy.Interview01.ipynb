{
 "cells": [
  {
   "cell_type": "markdown",
   "id": "bf235bb3-ebe9-40c8-aac6-935aecc68fd5",
   "metadata": {},
   "source": [
    "Interview Questions on Numpy:"
   ]
  },
  {
   "cell_type": "markdown",
   "id": "9b80a70f-fb3f-440f-9d17-226bf291b941",
   "metadata": {},
   "source": [
    "Question: What is Numpy?"
   ]
  },
  {
   "cell_type": "markdown",
   "id": "a596df62-f068-430d-ade8-9641bcde9587",
   "metadata": {},
   "source": [
    "Ans:- Numerical Python library"
   ]
  },
  {
   "cell_type": "markdown",
   "id": "d8cf083e-4c19-4482-a2c5-74398650276f",
   "metadata": {},
   "source": [
    "Question: Array ?\n",
    "\n",
    "Answer : Array is a data sctrucutre which stores homogenous type data"
   ]
  },
  {
   "cell_type": "markdown",
   "id": "1a07c43b-2f63-4d10-8814-289a38e462cb",
   "metadata": {},
   "source": [
    "Question: List vs array ?\n",
    "\n",
    "Question: Why array is faster than list ?"
   ]
  },
  {
   "cell_type": "markdown",
   "id": "bbe0b37a-4b3f-4fc4-b9ae-575239196976",
   "metadata": {},
   "source": [
    "Answer : Homogenous and memory location"
   ]
  },
  {
   "cell_type": "markdown",
   "id": "201331ea-fb03-45a8-bacc-89a9208bcb04",
   "metadata": {},
   "source": [
    "List is storedin random location or it may be contiguous location and  list actually stores the address(hexadecimal format ) of these locatons not the element themselves and random allocation of memory happens . \n",
    "\n"
   ]
  },
  {
   "cell_type": "markdown",
   "id": "ff9663f0-9d23-496b-9efb-ab883ac3b7c7",
   "metadata": {},
   "source": [
    "ls[0]=\"Vijay\" and python will again allocates a new random memory and it will store the new address i.e. referencing the address of all the elements"
   ]
  },
  {
   "cell_type": "markdown",
   "id": "35415bba-e2f9-4892-8af2-516ff1c25460",
   "metadata": {},
   "source": [
    "Python has automatic garbage removal and it removes the word ajay"
   ]
  },
  {
   "cell_type": "markdown",
   "id": "f6643d68-6618-4153-a697-5d6a4026b1d2",
   "metadata": {},
   "source": [
    "Concept of refrencing and resizing"
   ]
  },
  {
   "cell_type": "markdown",
   "id": "859fb304-18ca-4873-bf0f-1bf8e6108d0b",
   "metadata": {},
   "source": [
    "LIST HAS PROPERTY OF CONCEPT OF REFRENCING AND RESIZING BUT ARRAY HAS STATICALLY DEFINED CONTIGUOUS MEMORY LOCATION BUT NOT DYNAMIC."
   ]
  },
  {
   "cell_type": "markdown",
   "id": "3058e2f7-2af5-4017-a61f-6bb49f9369b3",
   "metadata": {},
   "source": [
    "In array we don't need to check about space and data type that's why array is faster than other data structure."
   ]
  },
  {
   "cell_type": "markdown",
   "id": "e3305845-b8ec-404e-bc59-da4e5a51a74e",
   "metadata": {},
   "source": [
    "1D-array vector\n",
    "\n",
    "2D- matrix\n",
    "\n",
    "3D- tensor"
   ]
  },
  {
   "cell_type": "markdown",
   "id": "9ab9468f-e371-426a-b9bb-d9bfe41afbd6",
   "metadata": {},
   "source": [
    "Vectorization :Operation on vectors and numpy actually does this operations."
   ]
  },
  {
   "cell_type": "code",
   "execution_count": null,
   "id": "79361445-426a-4579-adf7-9f365031d094",
   "metadata": {},
   "outputs": [],
   "source": []
  }
 ],
 "metadata": {
  "kernelspec": {
   "display_name": "Python 3 (ipykernel)",
   "language": "python",
   "name": "python3"
  },
  "language_info": {
   "codemirror_mode": {
    "name": "ipython",
    "version": 3
   },
   "file_extension": ".py",
   "mimetype": "text/x-python",
   "name": "python",
   "nbconvert_exporter": "python",
   "pygments_lexer": "ipython3",
   "version": "3.10.8"
  }
 },
 "nbformat": 4,
 "nbformat_minor": 5
}
